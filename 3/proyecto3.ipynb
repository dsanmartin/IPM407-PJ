{
 "cells": [
  {
   "cell_type": "markdown",
   "metadata": {},
   "source": [
    "<center>\n",
    "<h2>IPM-407: Modelación Computacional con Algoritmos Rápidos</h2>\n",
    "<h3>Proyecto 3 - Transformada Rápida de Gauss</h3>\n",
    "<h4>Daniel San Martín</h4>\n",
    "</center>"
   ]
  },
  {
   "cell_type": "markdown",
   "metadata": {},
   "source": [
    "# Tabla de Contenidos\n",
    "* [1. Introducción](#introduccion)\n",
    "* [2. Desarrollo](#desarrollo)\n",
    "* [3. Conclusiones](#conclusiones)\n",
    "* [4. Referencias](#referencias)"
   ]
  },
  {
   "cell_type": "markdown",
   "metadata": {},
   "source": [
    "<div id=\"introduccion\" />\n",
    "## 1. Introducción\n",
    "\n",
    "### 1.1 La transformada de Gauss\n",
    "\n",
    "Muchos problemas de matemáticas aplicada utilizan la *Transformada de Gauss*\n",
    "\n",
    "\\begin{equation}\n",
    "    G_{\\delta}f(x) = \\int_{\\Gamma}e^{-|x-y|^2/\\delta}f(y)dy \\quad (\\delta > 0)\n",
    "\\end{equation}\n",
    "\n",
    "de una función $f$ definida en $\\Gamma \\subset \\mathbb{R}^d$."
   ]
  },
  {
   "cell_type": "code",
   "execution_count": 198,
   "metadata": {
    "collapsed": true
   },
   "outputs": [],
   "source": [
    "import math\n",
    "import numpy as np\n",
    "import matplotlib.pyplot as plt\n",
    "from mpl_toolkits.mplot3d import Axes3D\n",
    "from matplotlib import cm\n",
    "from numba import jit\n",
    "from point2d import *\n",
    "from scipy.special import hermite"
   ]
  },
  {
   "cell_type": "code",
   "execution_count": 15,
   "metadata": {
    "collapsed": true
   },
   "outputs": [],
   "source": [
    "def chebyshevDx(N):\n",
    "    if N == 0:\n",
    "        D = 0\n",
    "        x = 1\n",
    "        return D, x\n",
    "    x = np.cos(np.pi*np.arange(N+1)/N)\n",
    "    c = np.hstack((2,np.ones(N-1),2))*((-1.)**np.arange(N+1))\n",
    "    X = np.tile(x,(N+1,1)).T\n",
    "    dX = X - X.T\n",
    "    D = np.outer(c,1./c)/(dX+np.eye(N+1))\n",
    "    D = D - np.diag(np.sum(D.T,axis=0))\n",
    "    return D, x"
   ]
  },
  {
   "cell_type": "code",
   "execution_count": 16,
   "metadata": {
    "collapsed": true
   },
   "outputs": [],
   "source": [
    "def clencurtQuad(N):\n",
    "    theta = np.pi*np.arange(0,N+1)/N; x = np.cos(theta)\n",
    "    w = np.zeros(N+1); ii = np.arange(1, N); v = np.ones(N-1)\n",
    "    if N%2 == 0: \n",
    "        w[0] = 1/(N**2-1); w[N] = w[0]\n",
    "        for k in range(1, int(N/2)):\n",
    "            v = v - 2*np.cos(2*k*theta[ii])/(4*k**2-1)\n",
    "        v = v - np.cos(N*theta[ii])/(N**2-1)\n",
    "    else:\n",
    "        w[0] = 1/N**2; w[N] = w[0]\n",
    "        for k in range(1, int((N+1)/2)):\n",
    "            v = v - 2*np.cos(2*k*theta[ii])/(4*k**2-1)\n",
    "    w[ii] = 2*v/N\n",
    "    return x, w"
   ]
  },
  {
   "cell_type": "code",
   "execution_count": 17,
   "metadata": {
    "collapsed": true
   },
   "outputs": [],
   "source": [
    "def gaussianQuad(N):\n",
    "    if N == 1:\n",
    "        return np.array([1]), np.array([2])\n",
    "    \n",
    "    beta = .5 / np.sqrt( 1. - (2.*np.arange(1.,N))**(-2) )\n",
    "    T = np.diag(beta,1) + np.diag(beta,-1)\n",
    "    D, V = np.linalg.eigh(T)\n",
    "    x = D\n",
    "    w = 2*V[0,:]**2\n",
    "    return x, w"
   ]
  },
  {
   "cell_type": "code",
   "execution_count": 18,
   "metadata": {
    "collapsed": true
   },
   "outputs": [],
   "source": [
    "@jit(nopython=True)\n",
    "def L2_norm(x):\n",
    "    s = 0\n",
    "    for i in range(len(x)):\n",
    "        s += x[i]**2\n",
    "    return np.sqrt(s)"
   ]
  },
  {
   "cell_type": "code",
   "execution_count": 19,
   "metadata": {
    "collapsed": true
   },
   "outputs": [],
   "source": [
    "@jit(nopython=True)\n",
    "def GL(x, s, d):\n",
    "    M, N = len(x), len(s)\n",
    "    G = np.zeros((M, N))\n",
    "    for i in range(M):\n",
    "        for j in range(N):\n",
    "            G[i, j] = np.exp(-L2_norm(np.array([x[i]-s[j]]))**2/d)\n",
    "    return G"
   ]
  },
  {
   "cell_type": "code",
   "execution_count": 20,
   "metadata": {
    "collapsed": true
   },
   "outputs": [],
   "source": [
    "def G(x, s, d):\n",
    "    X, S = np.meshgrid(x, s)\n",
    "    G = np.exp(-np.abs(X-S)**2/d)\n",
    "    return G"
   ]
  },
  {
   "cell_type": "code",
   "execution_count": 21,
   "metadata": {
    "collapsed": true
   },
   "outputs": [],
   "source": [
    "def q(s):\n",
    "    N = len(s)\n",
    "    #_, w = gaussian_nodes_and_weights(N)\n",
    "    _, w = clencurtQuad(N-1)\n",
    "    return w*f(s)"
   ]
  },
  {
   "cell_type": "code",
   "execution_count": 22,
   "metadata": {
    "collapsed": true
   },
   "outputs": [],
   "source": [
    "def discreteGaussL(x, s, d):\n",
    "    return np.dot(GL(x, s, d), q(s))"
   ]
  },
  {
   "cell_type": "code",
   "execution_count": 23,
   "metadata": {
    "collapsed": true
   },
   "outputs": [],
   "source": [
    "def discreteGauss(x, s, d):\n",
    "    return np.dot(q(s), G(x, s, d))"
   ]
  },
  {
   "cell_type": "code",
   "execution_count": 24,
   "metadata": {
    "collapsed": true
   },
   "outputs": [],
   "source": [
    "def f(x):\n",
    "    return 0.3*x + 0.7*np.sin(-1.5*np.pi*x)\n",
    "    #return x**4 + x**3 + x**2 + x\n",
    "    #return -x**2"
   ]
  },
  {
   "cell_type": "code",
   "execution_count": 51,
   "metadata": {
    "collapsed": true
   },
   "outputs": [],
   "source": [
    "M = 50\n",
    "N = 20\n",
    "x = np.linspace(-1, 1, M)\n",
    "s = np.linspace(-1, 1, N)\n",
    "d = .01"
   ]
  },
  {
   "cell_type": "code",
   "execution_count": 52,
   "metadata": {
    "collapsed": true
   },
   "outputs": [],
   "source": [
    "gg = discreteGauss(x, s, d)"
   ]
  },
  {
   "cell_type": "code",
   "execution_count": 53,
   "metadata": {
    "collapsed": true,
    "scrolled": false
   },
   "outputs": [],
   "source": [
    "#%timeit gg = discreteGaussL(x, s, d)"
   ]
  },
  {
   "cell_type": "code",
   "execution_count": 54,
   "metadata": {},
   "outputs": [
    {
     "data": {
      "image/png": "[encoded data removed]",
      "text/plain": [
       "<matplotlib.figure.Figure at 0x7f7b980f2b38>"
      ]
     },
     "metadata": {},
     "output_type": "display_data"
    }
   ],
   "source": [
    "plt.plot(x, (d*np.pi)**(-1/2)*gg)\n",
    "plt.plot(x, f(x))\n",
    "plt.show()"
   ]
  },
  {
   "cell_type": "markdown",
   "metadata": {},
   "source": [
    "## Multi-index implementation\n",
    "\n",
    "A multi-index $\\alpha=(\\alpha_1, \\alpha_2, ..., \\alpha_d)$ is a $d$-duple of nonnegative integers, playing role of a multidimensional index. For any multi-index $\\alpha$ and any\n",
    "$t\\in\\mathbb{R}^d$, we define\n",
    "\n",
    "\\begin{equation}\n",
    "\\begin{split}\n",
    "    |\\alpha| & = \\alpha_1 + \\alpha_2 + ... + \\alpha_d,\\\\ \n",
    "    \\alpha ! & = \\alpha_1!\\alpha_2!...\\alpha_d !, \\\\\n",
    "    t^{\\alpha} & = t_1^{\\alpha_1}t_2^{\\alpha_2}...t_d^{\\alpha_d}, \\\\\n",
    "    D^{\\alpha} &= \\partial_1^{\\alpha_1}\\partial_2^{\\alpha_2}...\\partial_d^{\\alpha_d}\n",
    "\\end{split}\n",
    "\\end{equation}\n",
    "\n",
    "where $\\partial_i$ is differentation with respect to the $i$th coordinate in $\\mathbb{R}^d$. If $p$ is an integer, we say $\\alpha \\geq p$ if $\\alpha_i \\geq p$ for $1\\leq i \\leq d$."
   ]
  },
  {
   "cell_type": "code",
   "execution_count": 73,
   "metadata": {
    "collapsed": true
   },
   "outputs": [],
   "source": [
    "# |alpha|\n",
    "@jit(nopython=True)\n",
    "def abs_alpha(alpha):\n",
    "    return np.sum(alpha)"
   ]
  },
  {
   "cell_type": "code",
   "execution_count": 74,
   "metadata": {
    "collapsed": true
   },
   "outputs": [],
   "source": [
    "@jit(nopython=True)\n",
    "def factorial(n):\n",
    "    if n == 0:\n",
    "        return 1\n",
    "    return n*factorial(n-1)"
   ]
  },
  {
   "cell_type": "code",
   "execution_count": 75,
   "metadata": {
    "collapsed": true
   },
   "outputs": [],
   "source": [
    "@jit(nopython=True)\n",
    "def vector_factorial(v):\n",
    "    u = np.zeros(len(v))\n",
    "    for i in range(len(v)):\n",
    "        u[i] = factorial(v[i])\n",
    "    return u"
   ]
  },
  {
   "cell_type": "code",
   "execution_count": 76,
   "metadata": {
    "collapsed": true
   },
   "outputs": [],
   "source": [
    "# alpha!\n",
    "@jit(nopython=True)\n",
    "def fact_alpha(alpha):\n",
    "    return np.prod(vector_factorial(alpha))"
   ]
  },
  {
   "cell_type": "code",
   "execution_count": 79,
   "metadata": {
    "scrolled": false
   },
   "outputs": [],
   "source": [
    "@jit(nopython=True)\n",
    "def vec_exp(t, alpha):\n",
    "    return np.power(t, alpha)"
   ]
  },
  {
   "cell_type": "code",
   "execution_count": 160,
   "metadata": {
    "collapsed": true
   },
   "outputs": [],
   "source": [
    "# Generate multi-index alpha\n",
    "def gen_alpha(p):\n",
    "    alpha = []\n",
    "    for i in range(p):\n",
    "        for j in range(p-i):\n",
    "            alpha.append([i,j])\n",
    "    return alpha"
   ]
  },
  {
   "cell_type": "code",
   "execution_count": 162,
   "metadata": {},
   "outputs": [],
   "source": [
    "def build_fact_cache(q):\n",
    "    f = []\n",
    "    for i in range(q+1):\n",
    "        f.append(factorial(i))\n",
    "    return f"
   ]
  },
  {
   "cell_type": "code",
   "execution_count": 159,
   "metadata": {
    "collapsed": true
   },
   "outputs": [],
   "source": [
    "# Generate sources\n",
    "def gen_sources(N):\n",
    "    r = [[] for _ in range(N)]\n",
    "    for i in range(len(r)):\n",
    "        X = np.random.random()\n",
    "        Y = np.random.random()\n",
    "        gamma = np.random.random()\n",
    "        r[i] = point2d(X, Y, gamma,i)#[X,Y,gamma]\n",
    "    return r"
   ]
  },
  {
   "cell_type": "code",
   "execution_count": 183,
   "metadata": {
    "collapsed": true
   },
   "outputs": [],
   "source": [
    "# Generate targets\n",
    "def gen_targets(N):\n",
    "    r = [[] for _ in range(N)]\n",
    "    for i in range(N):\n",
    "        X = np.random.random()\n",
    "        Y = np.random.random()\n",
    "        r[i] = point2d(X, Y, 0, i)\n",
    "    return r"
   ]
  },
  {
   "cell_type": "code",
   "execution_count": 184,
   "metadata": {
    "collapsed": true
   },
   "outputs": [],
   "source": [
    "# Contour plot\n",
    "def contour_plot(pts):\n",
    "    # read X and Y from path given\n",
    "    n = len(pts)\n",
    "    X_pts = np.zeros(n)\n",
    "    Y_pts = np.zeros(n)\n",
    "    for i in range(n):\n",
    "        X_pts[i] = pts[i].x\n",
    "        Y_pts[i] = pts[i].y\n",
    "\n",
    "    plt.contour(X_pts, Y_pts, pts[:,:,2], n)\n",
    "    plt.colorbar()\n",
    "    plt.show()"
   ]
  },
  {
   "cell_type": "code",
   "execution_count": 279,
   "metadata": {
    "collapsed": true
   },
   "outputs": [],
   "source": [
    "# Scatter plot\n",
    "def scatter_plot(t, r):\n",
    "    n = len(t)\n",
    "    x = np.zeros(n)\n",
    "    y = np.zeros(n)\n",
    "    for i in range(n):\n",
    "        x[i] = t[i].x\n",
    "        y[i] = t[i].y\n",
    "\n",
    "    area = 100 * np.pi * r**2\n",
    "    plt.scatter(x, y, c = r[0], marker = 'o', s = area, cmap=cm.jet, alpha=0.5)#, edgecolors='none')\n",
    "    plt.colorbar()\n",
    "    plt.show()"
   ]
  },
  {
   "cell_type": "code",
   "execution_count": 255,
   "metadata": {
    "collapsed": true
   },
   "outputs": [],
   "source": [
    "# Source and target plot\n",
    "def st_plot(s, t):\n",
    "    sX = np.zeros(len(s))\n",
    "    sY = np.zeros(len(s))\n",
    "    tX = np.zeros(len(t))\n",
    "    tY = np.zeros(len(t))\n",
    "    \n",
    "    for i in range(len(s)):\n",
    "        sX[i] = s[i].x\n",
    "        sY[i] = s[i].y\n",
    "        \n",
    "    for i in range(len(t)):\n",
    "        tX[i] = t[i].x\n",
    "        tY[i] = t[i].y\n",
    "\n",
    "    plt.plot(sX, sY, 'ro', label=\"Sources\")\n",
    "    plt.plot(tX, tY, 'bx', label=\"Targets\")\n",
    "    plt.legend()\n",
    "    plt.show()"
   ]
  },
  {
   "cell_type": "code",
   "execution_count": 281,
   "metadata": {
    "collapsed": true
   },
   "outputs": [],
   "source": [
    "def plot(s, t, r):\n",
    "    sX = np.zeros(len(s))\n",
    "    sY = np.zeros(len(s))\n",
    "    tX = np.zeros(len(t))\n",
    "    tY = np.zeros(len(t))\n",
    "    \n",
    "    for i in range(len(s)):\n",
    "        sX[i] = s[i].x\n",
    "        sY[i] = s[i].y\n",
    "        \n",
    "    for i in range(len(t)):\n",
    "        tX[i] = t[i].x\n",
    "        tY[i] = t[i].y\n",
    "        \n",
    "    area = 100 * np.pi * r**2\n",
    "    \n",
    "    plt.figure(figsize=(12, 8))\n",
    "    plt.plot(sX, sY, 'ko', label=\"Sources\")\n",
    "    plt.plot(tX, tY, 'kx', label=\"Targets\")\n",
    "    plt.scatter(tX, tY, c = r[0], marker = 'o', s = area, cmap=cm.jet, alpha=0.5)\n",
    "    plt.colorbar()\n",
    "    plt.legend()\n",
    "    plt.show()"
   ]
  },
  {
   "cell_type": "code",
   "execution_count": 267,
   "metadata": {
    "collapsed": true
   },
   "outputs": [],
   "source": [
    "def plot_centers(result, xb, yb):\n",
    "    max_x, min_x = max(result[:,0]), min(result[:,0])\n",
    "    max_y, min_y = max(result[:,1]), min(result[:,1])\n",
    "\n",
    "    centers = np.zeros([yb,xb],dtype=complex)\n",
    "\n",
    "    dx = (max_x - min_x) / xb\n",
    "    dy = (max_y - min_y) / yb\n",
    "\n",
    "    x_bounds = []\n",
    "    y_bounds = []\n",
    "\n",
    "    for i in range(xb + 1):\n",
    "        x_bounds.append(min_x + i*dx)\n",
    "    for i in range(yb + 1):\n",
    "        y_bounds.append(min_y + i*dy)\n",
    "\n",
    "    #print 'xbounds = ', x_bounds\n",
    "    #print 'ybounds = ', y_bounds\n",
    "    # get the cluster centers\n",
    "    for i in range(yb):\n",
    "        for j in range(xb):\n",
    "            y_center = (y_bounds[i] + y_bounds[i+1])/2.0\n",
    "            x_center = (x_bounds[j] + x_bounds[j+1])/2.0\n",
    "            centers[i,j] = complex(x_center,y_center)\n",
    "\n",
    "    #print centers\n",
    "\n",
    "    centers = centers.reshape([xb*yb,1])\n",
    "\n",
    "    # plot the centers\n",
    "    plt.scatter(centers[:].real, centers[:].imag, marker='x')\n",
    "    plt.show()\n",
    "\n",
    "    return centers"
   ]
  },
  {
   "cell_type": "markdown",
   "metadata": {},
   "source": [
    "#### Transform the field due to all sources in a box into a single rapidly converging Hermite expansion about the center of the box.\n",
    "\n",
    "*Lemma 2.1* Let $N_B$ sources $s_j$ lie in a box $B$ with center $s_B$ and side length $r\\sqrt{2\\delta}$ with $r < 1$. Then the Gaussian field due to the sources in $B$,\n",
    "\\begin{equation}\n",
    "    G(t) = \\sum_{j=1}^{N_B}q_je^{-|t-s_j|^2/\\delta}\n",
    "\\end{equation}\n",
    "is equal to a single Hermite expansion about $s_B$:\n",
    "\\begin{equation}\n",
    "    G(t) = \\sum_{\\alpha\\geq 0} A_{\\alpha}h_{\\alpha}\\left(\\frac{t-s_B}{\\sqrt{\\delta}}\\right)\n",
    "\\end{equation}\n",
    "The coefficients $A_{\\alpha}$ are given by\n",
    "\\begin{equation}\n",
    "    A_{\\alpha} = \\frac{1}{\\alpha !}\\sum_{j=1}^{N_B}q_j\\left(\\frac{s_j - s_B}{\\sqrt{\\delta}}\\right)^{\\alpha}\n",
    "\\end{equation}"
   ]
  },
  {
   "cell_type": "code",
   "execution_count": 312,
   "metadata": {
    "collapsed": true
   },
   "outputs": [],
   "source": [
    "def A_alpha(s, sb, delta, alpha):\n",
    "    \"\"\"\n",
    "    Build A_alpha coefficients\n",
    "    \n",
    "    Inputs:\n",
    "        - s: Source points\n",
    "        - q: Source strengths\n",
    "        - sb: Center of cluster\n",
    "        - delta: Gaussian width\n",
    "        - alpha: alpha multi-index\n",
    "    Return:\n",
    "        - A: array of coefficients\n",
    "    \"\"\"\n",
    "    sq_delta = math.sqrt(delta)\n",
    "    print(sq_delta)\n",
    "    A = []\n",
    "\n",
    "    # Go over each alpha value\n",
    "    for i in range(len(alpha)):\n",
    "        alp_temp = alpha[i]\n",
    "        A_tmp = 0.\n",
    "        # Sum over all the source points\n",
    "        for j in range(len(s)):\n",
    "            x = (s[j] - sb) / sq_delta\n",
    "            A_tmp += s[j].gamma*(x)**alp_temp\n",
    "        A.append(A_tmp / (1.*a_fact(alp_temp)))\n",
    "    return A"
   ]
  },
  {
   "cell_type": "markdown",
   "metadata": {},
   "source": [
    "Rather than using *Lemma 2.1* to accumulate all the Gaussians into a single Hermite expansion and then shifting it to $t_C$, we can use *Lemma 2.3* to shift each Gaussian individually to $t_C$ and add up the resulting Taylor coefficients. (A Gaussian is a one-term Hermite series, after all, and can therefore be shifted just like any other truncated Hermite series.) Thus, a Gaussian\n",
    "\\begin{equation}\n",
    "    G(t) = qe^{-|t-s_j|^2/\\delta}\n",
    "\\end{equation}\n",
    "has the following Taylor expansion about $t_C$:\n",
    "\\begin{equation}\n",
    "    G(t) = \\sum_{\\beta\\geq 0}B_{\\beta}\\left(\\frac{t-t_C}{\\sqrt{\\delta}}\\right)^{\\beta}.\n",
    "\\end{equation}\n",
    "The coefficients $B_{\\beta}$ are given by\n",
    "\\begin{equation}\n",
    "    B_{\\beta} = q\\frac{(-1)^{|\\beta|}}{\\beta !}h_{\\beta}\\left(\\frac{s_j-t_C}{\\sqrt{\\delta}}\\right)\n",
    "\\end{equation}"
   ]
  },
  {
   "cell_type": "code",
   "execution_count": 165,
   "metadata": {
    "collapsed": true
   },
   "outputs": [],
   "source": [
    "def B_beta(s, tc, delta, beta, H):\n",
    "    \"\"\"\n",
    "    Directly get taylor coefficients for target cluster rather than translate from hermite series\n",
    "    \n",
    "    Inputs:\n",
    "        - s: Source points\n",
    "        - tc: Center of targets' cluster\n",
    "        - delta: Gaussian width\n",
    "        - beta: beta multi-index coefficients\n",
    "        - H: list of pre-computed hermite polynomials\n",
    "        \n",
    "    Return:\n",
    "        - B: array of coefficients\n",
    "    \"\"\"\n",
    "    sq_delta = sqrt(delta)\n",
    "    B = []\n",
    "\n",
    "    for i in range(len(beta)):\n",
    "        sign = ((-1)**(1.*a_abs(beta[i]))) / (1.*a_fact(beta[i]))\n",
    "        \n",
    "        B_tmp = 0.\n",
    "        \n",
    "        # For each point, work out the expansion\n",
    "        for j in range(len(s)):\n",
    "            q = s[j].gamma\n",
    "            x = (s[j]-tc)/sq_delta\n",
    "\n",
    "            t = ((x.x)**2) + ((x.y)**2)\n",
    "\n",
    "            temp = exp(-t)*(H[beta[i][0]](x.x))*(H[beta[i][1]](x.y))\n",
    "            B_tmp += q*sign*temp\n",
    "\n",
    "        B.append(B_tmp)\n",
    "    B = array(B)\n",
    "    B = B.reshape([1,len(beta)])\n",
    "\n",
    "    return B"
   ]
  },
  {
   "cell_type": "markdown",
   "metadata": {},
   "source": [
    "For our algorithm, we will need a variant of *Lemma 2.2* in which the Hermite series is truncated before converting it to a Taylor series. This essentially means that in addition to truncating the Taylor series itself, we are also truncating the infinite sum expression (15) for the coefficients. Fortunately, however, the error due to this approximation of the coefficients turns out to be much smaller than the truncation error of the Taylor series.\n",
    "*LEMMA 2.3.* A truncated Hermite expansion\n",
    "\\begin{equation}\n",
    "    G(t) = \\sum_{\\alpha\\leq p}A_{\\alpha}h_{\\alpha}\\left(\\frac{t-s_B}{\\sqrt{\\delta}}\\right)\n",
    "\\end{equation}\n",
    "has the following Taylor expansion about an arbitrary point $t_C$:\n",
    "\\begin{equation}\n",
    "    G(t) = \\sum_{\\beta\\geq 0}C_{\\beta}\\left(\\frac{t-t_C}{\\sqrt{\\delta}}\\right)^{\\beta}.\n",
    "\\end{equation}\n",
    "The coefficients $C_{\\beta}$ are given by\n",
    "\\begin{equation}\n",
    "    C_{\\beta} = \\frac{(-1)^{|\\beta|}}{\\beta !}\\sum_{\\alpha\\leq p}A_{\\alpha}h_{\\alpha + \\beta}\\left(\\frac{s_B-t_C}{\\sqrt{\\delta}}\\right).\n",
    "\\end{equation}"
   ]
  },
  {
   "cell_type": "code",
   "execution_count": 166,
   "metadata": {
    "collapsed": true
   },
   "outputs": [],
   "source": [
    "def C_beta(sb, tc, A, delta, p, q, alpha, beta, H):\n",
    "    \"\"\"\n",
    "    Translate hermite series about sources into taylor series about target cluster center \n",
    "    (doesn't depend on source pts)\n",
    "    \n",
    "    Inputs: \n",
    "        - sb: Old cluster center\n",
    "        - tc: New center of series\n",
    "        - A: Array of A_alpha values for cluster with center sb\n",
    "        - delta:\n",
    "        - beta: Beta multi-index\n",
    "        - H: List of pre-computed hermite polynomials\n",
    "        \n",
    "    Return:\n",
    "        - C: array of coefficientes\n",
    "    \"\"\"\n",
    "    C = []\n",
    "    for i in range(len(beta)):\n",
    "        sign  = ((-1.)**(1.*a_abs(beta[i]))) / (1. * a_fact(beta[i]))\n",
    "        B_tmp = 0.\n",
    "        # iterate over A_alpha values\n",
    "        for j in range(len(A)):\n",
    "            a = A[j]\n",
    "            x = (sb-tc)/sqrt(delta)\n",
    "            t = (x.x)**2 + (x.y)**2\n",
    "            \n",
    "            h1 = H[alpha[j][0]+beta[i][0]](x.x)\n",
    "            h2 = H[alpha[j][1]+beta[i][1]](x.y)\n",
    "\n",
    "            B_tmp += a*exp(-t)*h1*h2\n",
    "        C.append(B_tmp*sign)\n",
    "    C = array(C)\n",
    "    C = C.reshape([1,len(beta)])\n",
    "    \n",
    "    return C"
   ]
  },
  {
   "cell_type": "code",
   "execution_count": 177,
   "metadata": {
    "collapsed": true
   },
   "outputs": [],
   "source": [
    "def int_list(A,i,j,d):\n",
    "    \"\"\"\n",
    "    Get the interaction list from A about cluster (i,j) with a distance of \n",
    "    d in x,y directions.\n",
    "    \n",
    "    Inputs:\n",
    "        - A: Cluster index array\n",
    "        - i: Cluster row\n",
    "        - j: Cluster column\n",
    "        - d: Number of clusters in each direction\n",
    "        \n",
    "    Return:\n",
    "        Interaction list\n",
    "    \"\"\"\n",
    "    if (i-d < 0): y_min = 0\n",
    "    else: y_min = i-d\n",
    "        \n",
    "    if (j-d < 0): x_min = 0\n",
    "    else: x_min = j-d\n",
    "        \n",
    "    return A[y_min:i+d+1,x_min:j+d+1]"
   ]
  },
  {
   "cell_type": "code",
   "execution_count": 233,
   "metadata": {
    "collapsed": true
   },
   "outputs": [],
   "source": [
    "def direct_gaussian(s, t, delta, results):\n",
    "    \"\"\"\n",
    "    Direct calculation of Gaussians\n",
    "    \n",
    "    Input: \n",
    "        - s: Source points\n",
    "        - t: Target points\n",
    "        - delta: Gaussian width\n",
    "        - results: Array to update\n",
    "    \n",
    "    \"\"\"\n",
    "    for i in range(len(t)):\n",
    "        r = 0\n",
    "        # index of the target point - element of results to store in\n",
    "        idx = t[i].idx\n",
    "        for j in range(len(s)):\n",
    "            dist = (s[j]-t[i]).norm()\n",
    "            v = dist**2 / delta\n",
    "\n",
    "            r += s[j].gamma*np.exp(-v)\n",
    "        results[0, idx] += r\n",
    "        \n",
    "    return results"
   ]
  },
  {
   "cell_type": "code",
   "execution_count": 168,
   "metadata": {
    "collapsed": true
   },
   "outputs": [],
   "source": [
    "def eval_hermite(A_alpha, t, sb, delta, alpha, H):\n",
    "    \"\"\"\n",
    "    Evaluate hermite expansion at a target point\n",
    "    \n",
    "    Inputs:\n",
    "        - A_alpha: List of series coefficients\n",
    "        - t: Target point\n",
    "        - sb: Center of source cluster (series center)\n",
    "        - delta: Gauss width\n",
    "        - alpha: Alpha multi-index\n",
    "        - H: List of pre-computed hermite polynomials\n",
    "    \"\"\"\n",
    "    r = 0.\n",
    "    for i in range(len(alpha)):\n",
    "        x = (t-sb)/sqrt(delta)\n",
    "        pre_mult = A_alpha[i]*exp(-(x.x**2 + x.y**2))\n",
    "        r  += pre_mult*H[alpha[i][0]](x.x)*H[alpha[i][1]](x.y)\n",
    "    \n",
    "    return r"
   ]
  },
  {
   "cell_type": "code",
   "execution_count": 169,
   "metadata": {
    "collapsed": true
   },
   "outputs": [],
   "source": [
    "def eval_taylor(t, tc, delta, t_series, beta):\n",
    "    \"\"\"\n",
    "    Evaluate taylor series at a target point\n",
    "    \n",
    "    Inputs:\n",
    "        - t: Target point\n",
    "        - tc: Center of Taylor series\n",
    "        - delta:\n",
    "        - t_series: Taylor series coefficients\n",
    "        - beta: Beta multi-index\n",
    "    \"\"\"\n",
    "    x = (tc-t)/sqrt(delta)\n",
    "    r = 0.\n",
    "    for i in range(shape(t_series)[1]):\n",
    "        r += t_series[0,i]*(x**beta[i])\n",
    "\n",
    "    return r"
   ]
  },
  {
   "cell_type": "code",
   "execution_count": 194,
   "metadata": {
    "collapsed": true
   },
   "outputs": [],
   "source": [
    "def gen_hermite_polys(p):\n",
    "    \"\"\"\n",
    "    Pre-compute the hermite polynomials to be used throughout the calculations (for speed)\n",
    "    \n",
    "    Inputs:\n",
    "        - p: number of terms kept in hermite / taylor series\n",
    "    \"\"\"\n",
    "    H = []\n",
    "    for i in range(p):\n",
    "        H.append(hermite(i))\n",
    "        \n",
    "    return H"
   ]
  },
  {
   "cell_type": "code",
   "execution_count": 171,
   "metadata": {
    "collapsed": true
   },
   "outputs": [],
   "source": [
    "def nCp(n, p):\n",
    "    \"\"\"\n",
    "    Get nCp needed for number of coefficients for taylor series\n",
    "    \n",
    "    Inputs:\n",
    "        - n:\n",
    "        - p:\n",
    "    \"\"\"\n",
    "    top = factorial(n)\n",
    "    bottom = factorial(p)*factorial(n-p)\n",
    "    \n",
    "    return 1.*(top/bottom)"
   ]
  },
  {
   "cell_type": "code",
   "execution_count": 172,
   "metadata": {
    "collapsed": true
   },
   "outputs": [],
   "source": [
    "def sum_gamma(s):\n",
    "    \"\"\"\n",
    "    Sum the gamma values to get Qb\n",
    "    \"\"\"\n",
    "    q = 0.\n",
    "    for i in s:\n",
    "        q += i.gamma\n",
    "        \n",
    "    return q"
   ]
  },
  {
   "cell_type": "code",
   "execution_count": 207,
   "metadata": {
    "collapsed": true
   },
   "outputs": [],
   "source": [
    "def truncation_bound(Qb,r,eps):\n",
    "    pre_mult = np.exp(-2.*(r**2))\n",
    "    for n in range(0,10):\n",
    "        e = pre_mult*np.exp(-n**2)\n",
    "        print('%d,%e,%e' %(n,e, eps))\n",
    "        if (e < eps):\n",
    "            return n+1\n",
    "\n",
    "    return 10"
   ]
  },
  {
   "cell_type": "code",
   "execution_count": 174,
   "metadata": {
    "collapsed": true
   },
   "outputs": [],
   "source": [
    "def hermite_bound(Qb,r,eps):\n",
    "    K = (1.09**2)\n",
    "    for p in range(0,50):\n",
    "        e = K*Qb*(1./factorial(p))*((r**(p+1))/(1-r))\n",
    "        if (e <= eps):\n",
    "            return p\n",
    "\n",
    "    return 50"
   ]
  },
  {
   "cell_type": "code",
   "execution_count": 175,
   "metadata": {
    "collapsed": true
   },
   "outputs": [],
   "source": [
    "def taylor_bound(Qb,r,eps):\n",
    "    K = (1.09**2)\n",
    "    for p in range(0,50):\n",
    "        e = K*Qb*(1./factorial(p))*((r**(p+1))/(1-r))\n",
    "        if e <= eps:\n",
    "            return p\n",
    "\n",
    "    return 50"
   ]
  },
  {
   "cell_type": "code",
   "execution_count": 213,
   "metadata": {
    "collapsed": true
   },
   "outputs": [],
   "source": [
    "def cluster(pts, xb, yb):\n",
    "\n",
    "    centers = [[] for _ in range(xb*yb)]\n",
    "    # initialise list for storing points\n",
    "    B = [[] for _ in range(xb*yb)]\n",
    "\n",
    "    dx = 1. / xb\n",
    "    dy = 1. / yb\n",
    "\n",
    "    x_bounds = []\n",
    "    y_bounds = []\n",
    "\n",
    "    # calculate lists of x and y bounds\n",
    "    # assume domain = [0,1]^2\n",
    "    for i in range(xb + 1):\n",
    "        x_bounds.append(i*dx)\n",
    "    for i in range(yb + 1):\n",
    "        y_bounds.append(i*dy)\n",
    "\n",
    "    # assign the cluster centers\n",
    "    for i in range(yb):\n",
    "        for j in range(xb):\n",
    "            y_center = (y_bounds[i] + y_bounds[i+1])/2.0\n",
    "            x_center = (x_bounds[j] + x_bounds[j+1])/2.0\n",
    "\n",
    "            centers[i*yb+j] = point2d(x_center,y_center)\n",
    "\n",
    "    # now assign points into the appropriate boxes\n",
    "    for i in range(len(pts)):\n",
    "        X = pts[i].x\n",
    "        Y = pts[i].y\n",
    "\n",
    "        # get y box\n",
    "        for j in range(yb):\n",
    "            if (Y >= y_bounds[j] and Y > y_bounds[j+1]):\n",
    "                # not in this box\n",
    "                continue\n",
    "            if (Y >= y_bounds[j] and Y <= y_bounds[j+1]):\n",
    "                y_box = j\n",
    "                break\n",
    "\n",
    "        # get x box\n",
    "        for k in range(xb):\n",
    "            if (X >= x_bounds[k] and X > x_bounds[k+1]):\n",
    "                continue\n",
    "            if (X >= x_bounds[k] and X <= x_bounds[k+1]):\n",
    "                x_box = k\n",
    "                break\n",
    "\n",
    "        B[y_box*yb + x_box].append(pts[i])\n",
    "\n",
    "    # build index array\n",
    "    A = np.zeros([xb,yb], dtype=int)\n",
    "    for i in range(A.shape[0]):\n",
    "        for j in range(A.shape[1]):\n",
    "            A[i,j] = (i*xb)+j\n",
    "\n",
    "    return A, B, centers"
   ]
  },
  {
   "cell_type": "code",
   "execution_count": 317,
   "metadata": {},
   "outputs": [],
   "source": [
    "def FGT(opt):\n",
    "    \n",
    "    # Get options - Parameters\n",
    "    N = opt['N']\n",
    "    M = opt['M']\n",
    "    r = opt['r']\n",
    "    delta = opt['delta']\n",
    "    N_side = opt['N_side']\n",
    "    eps = opt['eps']\n",
    "\n",
    "    # Generate random sources and targets\n",
    "    s = gen_sources(N)\n",
    "    t = gen_targets(M)\n",
    "\n",
    "    xb = yb = N_side\n",
    "\n",
    "    Qb = sum_gamma(s)\n",
    "    \n",
    "    # terms for hermite expansion\n",
    "    p = hermite_bound(Qb, r, eps)\n",
    "\n",
    "    # terms for taylor expansion\n",
    "    q = taylor_bound(Qb,r,eps)\n",
    "\n",
    "    # build a factorial cache - only compute this crap once\n",
    "    fact_cache = build_fact_cache(p+q)\n",
    "    # generate table of hermite polynomials\n",
    "    H = gen_hermite_polys(p+q)\n",
    "\n",
    "    # cutoffs\n",
    "    # taylor\n",
    "    #NF = 100\n",
    "    #ML = 0\n",
    "    # direct\n",
    "    #NF = 100\n",
    "    #ML = 100\n",
    "    # hermite\n",
    "    NF = 0\n",
    "    ML = 100\n",
    "    # h2t\n",
    "    #NF = 16\n",
    "    #ML = 10\n",
    "\n",
    "    # cutoffs based on error bounds\n",
    "    NF = p+1\n",
    "    ML = q+1\n",
    "\n",
    "    d = truncation_bound(Qb,r,eps)\n",
    "\n",
    "    # cluster source & target points\n",
    "    # A is the index matrix, B = source clusters, C = target clusters,\n",
    "    A, B, sb = cluster(s,xb,yb)\n",
    "    A, C, tb = cluster(t,xb,yb)\n",
    "    \n",
    "    # generate multi-index vectors\n",
    "    alpha = gen_alpha(p)\n",
    "    beta = gen_alpha(q)\n",
    "\n",
    "    # storage for taylor series & hermite series\n",
    "    h_series = [[] for _ in range(xb*yb)]\n",
    "    t_series = [[] for _ in range(xb*yb)]\n",
    "\n",
    "    # loop over source boxes -> NB > NF: generate hermite series\n",
    "    for i in range(xb):\n",
    "        for j in range(yb):\n",
    "            idx = A[i,j]\n",
    "\n",
    "            NB  = len(B[idx])\n",
    "\n",
    "            if (NB > NF):\n",
    "                #print 'generating hermite series for box (%d,%d)' %(i,j)\n",
    "\n",
    "                h_series[idx] = A_alpha(B[idx], sb[idx], delta, alpha) \n",
    "            else:\n",
    "                continue\n",
    "                #print 'NB < NF -> no hermite series generated'\n",
    "\n",
    "    # loop over target boxes -> MC > ML: assign storage for taylor series\n",
    "    for i in range(xb):\n",
    "        for j in range(yb):\n",
    "            idx = A[i,j]\n",
    "\n",
    "            MC = len(C[idx])\n",
    "\n",
    "            if (MC > ML):\n",
    "                #print 'assigning storage for taylor series in box (%d,%d)' %(i,j)\n",
    "\n",
    "                # no. terms from iFGT paper, pg. 7\n",
    "                t_series[idx] = np.zeros((1, nCp(q+1,2)))\n",
    "            else:\n",
    "                continue\n",
    "                #print 'MC < ML -> no storage assigned'\n",
    "\n",
    "    # array to hold results in\n",
    "    results = np.zeros([1, len(t)])\n",
    "\n",
    "    direct_eval = 0\n",
    "    hermite_eval = 0\n",
    "    taylor_convert = 0\n",
    "    hermite_taylor = 0\n",
    "    # loop over source boxes \n",
    "    # - form interaction list\n",
    "    for i in range(yb):\n",
    "        for j in range(xb):\n",
    "            # get interaction list for source box (i,j)\n",
    "            idx  = A[i,j]\n",
    "            IL   = int_list(A,i,j,d)\n",
    "            size = IL.shape\n",
    "\n",
    "            NB = len(B[idx])\n",
    "\n",
    "            if (NB == 0):\n",
    "                continue\n",
    "            elif (NB <= NF):\n",
    "                # now loop over boxes in interaction list\n",
    "                for y in range(size[0]):\n",
    "                    for x in range(size[1]):\n",
    "                        t_idx = IL[y,x]\n",
    "                        MC = len(C[t_idx])\n",
    "                        if (MC == 0):\n",
    "                            continue\n",
    "                        elif (MC <= ML):\n",
    "                            # evaluate gaussians directly\n",
    "                            #print 'direct gaussian - s=%d to t=%d' %(idx,t_idx)\n",
    "                            results = direct_gaussian(B[idx],C[t_idx],delta,results)\n",
    "                            #print 'evaluate gaussians directly'\n",
    "                            direct_eval += 1\n",
    "                        else:\n",
    "                            #print 'convert each source to taylor series & add to box'\n",
    "\n",
    "                            t_series[t_idx] += B_beta(B[idx],tb[t_idx],delta,beta,H)\n",
    "                            taylor_convert += 1\n",
    "\n",
    "            # else (NB > NF)\n",
    "            else:\n",
    "                # loop over IL\n",
    "                for y in range(size[0]):\n",
    "                    for x in range(size[1]):\n",
    "                        # hermite expansions already formed\n",
    "                        t_idx = IL[y,x]\n",
    "                        MC    = len(C[t_idx])\n",
    "                        if (MC == 0):\n",
    "                            continue\n",
    "                        elif (MC <= ML):\n",
    "                            # evaluate hermite series at each target & add to accumulated potential\n",
    "                            #print 'Evaluate Hermite & add to accumulated potential'\n",
    "                            for k in range(len(C[t_idx])):\n",
    "                                target_idx = C[t_idx][k].idx\n",
    "                                # eval_hermite(A_alpha,t,sb,delta,alpha)\n",
    "                                results[0,target_idx] += eval_hermite(h_series[idx],C[t_idx][k],sb[idx],delta,alpha,H)\n",
    "                            hermite_eval += 1\n",
    "                        # else (MC > ML)\n",
    "                        else:\n",
    "                            #print 'convert hermite -> taylor & add to taylor for box C'\n",
    "                            # h2t(), C_beta(sb, tc, A, delta, p, q, alpha, beta)\n",
    "                            t_series[t_idx] += C_beta(sb[idx],tb[t_idx],h_series[idx],delta,p,q,alpha,beta,H)\n",
    "                            hermite_taylor += 1\n",
    "\n",
    "    # loop through target boxes evaluating taylor series if MC > ML\n",
    "    taylor_eval = 0\n",
    "    for i in range(yb):\n",
    "        for j in range(xb):\n",
    "            idx = A[i,j]\n",
    "            MC = len(C[idx])\n",
    "\n",
    "            if (MC == 0):\n",
    "                continue\n",
    "            elif (MC > ML):\n",
    "                taylor_eval += 1\n",
    "                #print 'evaluate taylor series for C at each target position'\n",
    "                for k in range(MC):\n",
    "                    target_idx = C[idx][k].idx\n",
    "                    # eval_taylor(t,tc,delta,t_series,beta)\n",
    "                    results[0,target_idx] += eval_taylor(C[idx][k],tb[idx],delta,t_series[idx],beta)\n",
    "                    \n",
    "    return t, s, results"
   ]
  },
  {
   "cell_type": "code",
   "execution_count": 323,
   "metadata": {
    "collapsed": true
   },
   "outputs": [],
   "source": [
    "parameters = {\n",
    "    'N': 50,\n",
    "    'M': 20,\n",
    "    'r': 0.01,\n",
    "    'delta': .1,\n",
    "    'N_side': 5,\n",
    "    'eps': 1e-14\n",
    "}"
   ]
  },
  {
   "cell_type": "code",
   "execution_count": 324,
   "metadata": {},
   "outputs": [
    {
     "name": "stdout",
     "output_type": "stream",
     "text": [
      "0,9.998000e-01,1.000000e-14\n",
      "1,3.678059e-01,1.000000e-14\n",
      "2,1.831198e-02,1.000000e-14\n",
      "3,1.233851e-04,1.000000e-14\n",
      "4,1.125127e-07,1.000000e-14\n",
      "5,1.388517e-11,1.000000e-14\n",
      "6,2.319059e-16,1.000000e-14\n"
     ]
    }
   ],
   "source": [
    "t, s, r = FGT(parameters)"
   ]
  },
  {
   "cell_type": "code",
   "execution_count": 325,
   "metadata": {},
   "outputs": [
    {
     "data": {
      "image/png": "[encoded data removed]",
      "text/plain": [
       "<matplotlib.figure.Figure at 0x7f7fe4f18860>"
      ]
     },
     "metadata": {},
     "output_type": "display_data"
    }
   ],
   "source": [
    "plot(s, t, r)"
   ]
  },
  {
   "cell_type": "markdown",
   "metadata": {},
   "source": [
    "# <div id=\"desarrollo\" />\n",
    "## 2. Desarrollo\n",
    "\n",
    "<!--\n",
    "Consideren la siguiente ecuación de Poisson\n",
    "\n",
    "\\begin{equation}\n",
    "    \\frac{\\partial^2\\phi}{\\partial x^2} + \\frac{\\partial^2\\phi}{\\partial y^2} = \\frac{1}{\\pi^2}\n",
    "    \\left[30\\left(\\left(\\frac{x}{\\pi}\\right)^2-\\frac{x}{\\pi}\\right) \n",
    "    + 30\\left(\\left(\\frac{y}{\\pi}\\right)^2-\\frac{y}{\\pi}\\right) - 4\\pi^2\\left(\\frac{x}{\\pi}-1 \\right)\\sin(2y) \\right]\n",
    "\\end{equation}\n",
    "\n",
    "en el cuadrado $0\\leq x \\leq \\pi$ y $0 \\leq y \\leq \\pi$ y con condiciones de contorno $\\phi(0,y)=\\phi(\\pi,y)=\\phi(x,0)=\\phi(x,\\pi)=0$. Resuelvan numéricamente esta ecuación usando\n",
    "\n",
    "1. Método espectral\n",
    "2. Diferencias finitas aceleradas con FFT en 2D (tipo pregunta 4 de la tarea 2)\n",
    "3. Diferencias finitas aceleradas con FFT en 1D (tipo pregunta 5 de la tarea)\n",
    "\n",
    "Para mallas de $N = 16, 32, 64$ y $128$ nodos (o más!) En su informe, detalle la implementación de cada técnica y discuta los siguientes puntos:\n",
    "\n",
    "1. Convergencia del error.\n",
    "2. Complejidad algoritmica ($N$ versus tiempo).\n",
    "3. Memoria utilizada.\n",
    "4. Conclusiones con respecto a la conveniencia de cada caso.\n",
    "\n",
    "La solución analítica de esta ecuación es \n",
    "\\begin{equation}\n",
    "    \\phi(x,y) = 15\\left(\\left(\\frac{x}{\\pi}\\right)^2-\\frac{x}{\\pi}\\right)\n",
    "    \\left(\\left(\\frac{y}{\\pi}\\right)^2-\\frac{y}{\\pi}\\right)-\\sin(2y)\\frac{\\sinh(2\\pi(\\frac{x}{\\pi}-1))}{\\sinh(2\\pi)}\n",
    "    + \\left(\\frac{x}{\\pi}-1 \\right)\\sin(2y)\n",
    "\\end{equation}\n",
    "\n",
    "### Ayuda\n",
    "\n",
    "1. Esta tarea está inspirada en el Ejemplo 6.4 del libro *Fundamentals of Engineering Numerical Analysis* de Parviz Moin.\n",
    "2. Las condiciones de borde homogénea $\\phi = 0$ en los bordes son concordantes con la función seno, por lo tanto es más conveniente usar la transformada del seno. Hay una implementación de la transformada del seno en **scipy.fftpack**. Otra opción es calcular la transformada discreta del seno con FFTs de la forma:\n",
    "\n",
    "```python\n",
    "def dst_2D(x):\n",
    "    M, N = numpy.shape(x)\n",
    "    x = x[1:M−1,:]\n",
    "    M,N = numpy.shape(x)\n",
    "    y = numpy.zeros((2∗(M+1),N))\n",
    "    y[0,:] = numpy.zeros(N)[:]\n",
    "    y[1:M+1,:] = x[:,:]\n",
    "    y[M+1,:] = numpy.zeros(N)[:]\n",
    "    y[M+2:2∗M+ 2,:] = −numpy.flipud(x)[:,:]\n",
    "    y_t = fft(numpy.transpose(y))\n",
    "    y_t = numpy.transpose(y_t)\n",
    "    y = numpy.real((y_t[1:M+1])/(−1j∗(M+1)))\n",
    "    yy = numpy.zeros((M+2,N))\n",
    "    yy[1:M+1,:] = y[:,:]\n",
    "    return yy\n",
    "```\n",
    "\n",
    "```python\n",
    "def dst_1D(x):\n",
    "    M = len(x)\n",
    "    x = x[1:M−1]\n",
    "    M = len(x)\n",
    "    y = array([0])\n",
    "    y = numpy.append(y,x)\n",
    "    y = numpy.append(y,0)\n",
    "    y = numpy.append(y, −numpy.flipud(x))\n",
    "    y_t = numpy.fft.fft(y)\n",
    "    \n",
    "    y = numpy.real(y_t[1:M+1]/(−1j ∗(M+1)))\n",
    "    yy = numpy.array([0])\n",
    "    yy = numpy.append(yy, y)\n",
    "    yy = numpy.append(yy, 0)\n",
    "    return yy\n",
    "```\n",
    "Considerando que la transformada inversa del seno es igual a la transformada del seno multiplicado por $N/2$\n",
    "-->"
   ]
  },
  {
   "cell_type": "markdown",
   "metadata": {},
   "source": [
    "### Implementación de funciones"
   ]
  },
  {
   "cell_type": "code",
   "execution_count": 3,
   "metadata": {
    "collapsed": true
   },
   "outputs": [],
   "source": [
    "def L2_error(w, u):\n",
    "    return np.sqrt(np.sum((w-u)**2)/np.sum(u**2))"
   ]
  },
  {
   "cell_type": "code",
   "execution_count": 8,
   "metadata": {
    "collapsed": true
   },
   "outputs": [],
   "source": [
    "def convergence_plot(N, error_sp, error_d2, error_df):\n",
    "    # Plot\n",
    "    plt.figure(figsize=(10, 6))\n",
    "    plt.loglog(N, error_sp, 'b-*', label=\"Espectral\")\n",
    "    plt.loglog(N, error_d2, 'r-o', label=\"DF FFT 2D\")\n",
    "    plt.loglog(N, error_df, 'g-x', label=\"DF FFT\")\n",
    "    plt.title(\"Convergencia del error\")\n",
    "    plt.xlabel(\"N\")\n",
    "    plt.ylabel(\"Error\")\n",
    "    plt.grid(True)\n",
    "    plt.legend()\n",
    "    plt.show()\n",
    "    \n",
    "    return None"
   ]
  },
  {
   "cell_type": "code",
   "execution_count": 9,
   "metadata": {
    "collapsed": true
   },
   "outputs": [],
   "source": [
    "def complexity_plot(N, time_sp, time_d2, time_df):\n",
    "    plt.figure(figsize=(10, 6))\n",
    "    plt.loglog(N, time_sp, 'b-*', label=\"Espectral\")\n",
    "    plt.loglog(N, time_d2, 'r-o', label=\"DF FFT 2D\")\n",
    "    plt.loglog(N, time_df, 'g-x', label=\"DF FFT\")\n",
    "    plt.title(\"Complejidad\")\n",
    "    plt.xlabel(\"N\")\n",
    "    plt.ylabel(\"Tiempo\")\n",
    "    plt.grid(True)\n",
    "    plt.legend()\n",
    "    plt.show()\n",
    "    \n",
    "    return None"
   ]
  },
  {
   "cell_type": "markdown",
   "metadata": {},
   "source": [
    "<div id=\"conclusiones\" />\n",
    "## 3. Conclusiones\n",
    "\n",
    "<!--\n",
    "Del desarrollo del proyecto se obtuvieron las siguientes conclusiones:\n",
    "\n",
    "* Es posible ver que el uso de métodos relacionados con la FFT (DST), tienen resultados cualitativamente buenos para la resolución de EDP's.\n",
    "* La complejidad de los algoritmos indican que computacionalmente son métodos eficientes para este tipo de problemas.\n",
    "* Según el análisis de los gráficos no existe una diferencia significativa en los resultados de cada algoritmo, pero aún así dependerá de los recursos de cómputo disponibles.\n",
    "* Gracias a la optimización de las librerías para el cálculo de las FFT (DST), es posible obtener resultados en una cantidad de tiempo bastante inferior que aplicando los métodos usuales.\n",
    "-->"
   ]
  },
  {
   "cell_type": "markdown",
   "metadata": {},
   "source": [
    "<div id=\"referencias\" />\n",
    "## 4. Referencias \n",
    "\n",
    "* [1] Greengard, L., & Strain, J. (1991). The fast Gauss transform. SIAM Journal on Scientific and Statistical Computing, 12(1), 79-94.\t\n"
   ]
  },
  {
   "cell_type": "code",
   "execution_count": null,
   "metadata": {
    "collapsed": true
   },
   "outputs": [],
   "source": []
  }
 ],
 "metadata": {
  "kernelspec": {
   "display_name": "Python 3",
   "language": "python",
   "name": "python3"
  },
  "language_info": {
   "codemirror_mode": {
    "name": "ipython",
    "version": 3
   },
   "file_extension": ".py",
   "mimetype": "text/x-python",
   "name": "python",
   "nbconvert_exporter": "python",
   "pygments_lexer": "ipython3",
   "version": "3.6.1"
  }
 },
 "nbformat": 4,
 "nbformat_minor": 2
}
