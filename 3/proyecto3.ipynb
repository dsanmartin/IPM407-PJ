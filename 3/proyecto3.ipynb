{
 "cells": [
  {
   "cell_type": "markdown",
   "metadata": {},
   "source": [
    "<center>\n",
    "<h2>IPM-407: Modelación Computacional con Algoritmos Rápidos</h2>\n",
    "<h3>Proyecto 3 - Transformada Rápida de Gauss</h3>\n",
    "<h4>Daniel San Martín</h4>\n",
    "</center>"
   ]
  },
  {
   "cell_type": "markdown",
   "metadata": {},
   "source": [
    "# Tabla de Contenidos\n",
    "* [1. Introducción](#introduccion)\n",
    "* [2. Desarrollo](#desarrollo)\n",
    "* [3. Conclusiones](#conclusiones)\n",
    "* [4. Referencias](#referencias)"
   ]
  },
  {
   "cell_type": "markdown",
   "metadata": {},
   "source": [
    "<div id=\"introduccion\" />\n",
    "## 1. Introducción\n",
    "\n",
    "### 1.1 La transformada de Gauss\n",
    "\n",
    "Muchos problemas de matemáticas aplicada utilizan la *Transformada de Gauss*\n",
    "\n",
    "\\begin{equation}\n",
    "    G_{\\delta}f(x) = \\int_{\\Gamma}e^{-|x-y|^2/\\delta}f(y)dy \\quad (\\delta > 0)\n",
    "\\end{equation}\n",
    "\n",
    "de una función $f$ definida en $\\Gamma \\subset \\mathbb{R}^d$. El ejemplo más simple es la ecuación de calor. La solución del problema de valor inicial\n",
    "\n",
    "\\begin{equation}\n",
    "\\begin{split}\n",
    "    u_t(x,t) &= \\Delta u(x,t) \\quad \\text{para} ~ t > 0 \\\\\n",
    "    u(x,0) &= f(x) \\quad \\text{para} ~ x \\in \\mathbb{R}^d\n",
    "\\end{split}\n",
    "\\end{equation}\n",
    "\n",
    "esta dado por\n",
    "\n",
    "\\begin{equation}\n",
    "    u(x,t) = (4\\pi t)^{-d/2} G_{4t}f(x),\n",
    "\\end{equation}\n",
    "\n",
    "con $\\Gamma$ igual a todo el espacio.\n",
    "\n",
    "<!--Para este proyecto el objetivo es utilizar métodos basados en las transformadas de Fourier para resolver ecuaciones diferenciales parciales, específicamente las del tipo elípticas. Dada las condiciones de borde de este problema en particular, es más favorable utilizar la transformada del seno.\n",
    "\n",
    "### 1.1 La transformada de Fourier \n",
    "\n",
    "La transformada de Fourier, denominada así por Joseph Fourier, es una transformación matemática empleada para transformar señales entre el dominio del tiempo (o espacial) y el dominio de la frecuencia, que tiene muchas aplicaciones en la física y la ingeniería. Está definida de muchas formas, pero la utilizada en [1] junto a su inversa son:\n",
    "\n",
    "\\begin{equation}\n",
    "    \\hat{f}(\\omega) = \\int_{-\\infty}^{\\infty}f(x)e^{-i2\\pi\\omega x}d\\omega, \\qquad\n",
    "    f(x) = \\int_{-\\infty}^{\\infty}\\hat{f}(\\omega)e^{i2\\pi\\omega x}d\\omega, \\quad \\text{con} ~ x, \\omega \\in \\mathbb{R}\n",
    "\\end{equation}\n",
    "\n",
    "Su uso para resolución de problemas computacionales está más relacionada con la transformada discreta de Fourier (y su inversa respectivamente):\n",
    "\n",
    "\\begin{equation}\n",
    "    F_k = \\sum_{n=0}^{N-1}f_n e^{\\frac{-i2\\pi nk}{N}}, \\qquad\n",
    "    f_n = \\sum_{k=0}^{N-1}F_k e^{\\frac{i2\\pi nk}{N}}\n",
    "\\end{equation}\n",
    "\n",
    "Su extensión para 2 dimensiones y su respectiva inversa están representadas por\n",
    "\n",
    "\\begin{equation}\n",
    "    F_{jk} = \\sum_{m=0}^{M-1}\\sum_{n=0}^{N-1}f_{mn} e^{-i2\\pi\\left(\\frac{mk}{M} + \\frac{nk}{N}\\right)},\\qquad\n",
    "    f_{mn} = \\sum_{j=0}^{M-1}\\sum_{k=0}^{N-1}F_{jk} e^{i2\\pi\\left(\\frac{mk}{M} + \\frac{nk}{N}\\right)}\n",
    "\\end{equation}\n",
    "\n",
    "\n",
    "### 1.2 La transformada Discreta del Seno (DST)\n",
    "\n",
    "Es posible obtener la (DST) manejando la expresión de Fourier y junto a su inversa está definida por \n",
    "\n",
    "\\begin{equation}\n",
    "    F_k = \\sum_{n=1}^{N-1}f_{mn}\\sin\\left(\\frac{\\pi kn}{N}\\right), \\qquad\n",
    "    f_n = 2\\sum_{k=1}^{N-1}f_n\\sin\\left(\\frac{\\pi kn}{N}\\right),\n",
    "\\end{equation}\n",
    "\n",
    "además, su extensión a dos dimensiones está expresada por\n",
    "\n",
    "\\begin{equation}\n",
    "    F_{jk} = -\\frac{1}{MN}\\sum_{m=1}^{M-1}\\sum_{n=1}^{N-1}f_{mn}\\sin\\left(\\frac{\\pi jm}{M}\\right)\\sin\\left(\\frac{\\pi kn}{N}\\right), \\qquad\n",
    "    f_{mn} = \\sum_{m=1}^{M-1}\\sum_{n=1}^{N-1}F_{jk}\\sin\\left(\\frac{\\pi jm}{M}\\right)\\sin\\left(\\frac{\\pi kn}{N}\\right),\n",
    "\\end{equation}\n",
    "-->"
   ]
  },
  {
   "cell_type": "code",
   "execution_count": 520,
   "metadata": {
    "collapsed": true
   },
   "outputs": [],
   "source": [
    "import math\n",
    "import numpy as np\n",
    "import matplotlib.pyplot as plt\n",
    "from mpl_toolkits.mplot3d import Axes3D\n",
    "from matplotlib import cm\n",
    "from numba import jit"
   ]
  },
  {
   "cell_type": "code",
   "execution_count": 349,
   "metadata": {
    "collapsed": true
   },
   "outputs": [],
   "source": [
    "def chebyshevDx(N):\n",
    "    if N == 0:\n",
    "        D = 0\n",
    "        x = 1\n",
    "        return D, x\n",
    "    x = np.cos(np.pi*np.arange(N+1)/N)\n",
    "    c = np.hstack((2,np.ones(N-1),2))*((-1.)**np.arange(N+1))\n",
    "    X = np.tile(x,(N+1,1)).T\n",
    "    dX = X - X.T\n",
    "    D = np.outer(c,1./c)/(dX+np.eye(N+1))\n",
    "    D = D - np.diag(np.sum(D.T,axis=0))\n",
    "    return D, x"
   ]
  },
  {
   "cell_type": "code",
   "execution_count": 350,
   "metadata": {
    "collapsed": true
   },
   "outputs": [],
   "source": [
    "def clencurtQuad(N):\n",
    "    theta = np.pi*np.arange(0,N+1)/N; x = np.cos(theta)\n",
    "    w = np.zeros(N+1); ii = np.arange(1, N); v = np.ones(N-1)\n",
    "    if N%2 == 0: \n",
    "        w[0] = 1/(N**2-1); w[N] = w[0]\n",
    "        for k in range(1, int(N/2)):\n",
    "            v = v - 2*np.cos(2*k*theta[ii])/(4*k**2-1)\n",
    "        v = v - np.cos(N*theta[ii])/(N**2-1)\n",
    "    else:\n",
    "        w[0] = 1/N**2; w[N] = w[0]\n",
    "        for k in range(1, int((N+1)/2)):\n",
    "            v = v - 2*np.cos(2*k*theta[ii])/(4*k**2-1)\n",
    "    w[ii] = 2*v/N\n",
    "    return x, w"
   ]
  },
  {
   "cell_type": "code",
   "execution_count": 351,
   "metadata": {},
   "outputs": [],
   "source": [
    "def gaussianQuad(N):\n",
    "    if N == 1:\n",
    "        return np.array([1]), np.array([2])\n",
    "    \n",
    "    beta = .5 / np.sqrt( 1. - (2.*np.arange(1.,N))**(-2) )\n",
    "    T = np.diag(beta,1) + np.diag(beta,-1)\n",
    "    D, V = np.linalg.eigh(T)\n",
    "    x = D\n",
    "    w = 2*V[0,:]**2\n",
    "    return x, w"
   ]
  },
  {
   "cell_type": "code",
   "execution_count": 429,
   "metadata": {
    "collapsed": true
   },
   "outputs": [],
   "source": [
    "@jit(nopython=True)\n",
    "def L2_norm(x):\n",
    "    s = 0\n",
    "    for i in range(len(x)):\n",
    "        s += x[i]**2\n",
    "    return np.sqrt(s)"
   ]
  },
  {
   "cell_type": "code",
   "execution_count": 451,
   "metadata": {},
   "outputs": [],
   "source": [
    "@jit(nopython=True)\n",
    "def GL(x, s, d):\n",
    "    M, N = len(x), len(s)\n",
    "    G = np.zeros((M, N))\n",
    "    for i in range(M):\n",
    "        for j in range(N):\n",
    "            G[i, j] = np.exp(-L2_norm(np.array([x[i]-s[j]]))**2/d)\n",
    "    return G"
   ]
  },
  {
   "cell_type": "code",
   "execution_count": 441,
   "metadata": {
    "collapsed": true
   },
   "outputs": [],
   "source": [
    "def G(x, s, d):\n",
    "    X, S = np.meshgrid(x, s)\n",
    "    G = np.exp(-np.abs(X-S)**2/d)\n",
    "    return G"
   ]
  },
  {
   "cell_type": "code",
   "execution_count": 442,
   "metadata": {
    "collapsed": true
   },
   "outputs": [],
   "source": [
    "def q(s):\n",
    "    N = len(s)\n",
    "    #_, w = gaussian_nodes_and_weights(N)\n",
    "    _, w = clencurt(N-1)\n",
    "    return w*f(s)"
   ]
  },
  {
   "cell_type": "code",
   "execution_count": 443,
   "metadata": {
    "collapsed": true
   },
   "outputs": [],
   "source": [
    "def discreteGaussL(x, s, d):\n",
    "    return np.dot(GL(x, s, d), q(s))"
   ]
  },
  {
   "cell_type": "code",
   "execution_count": 444,
   "metadata": {},
   "outputs": [],
   "source": [
    "def discreteGauss(x, s, d):\n",
    "    return np.dot(q(s), G(x, s, d))"
   ]
  },
  {
   "cell_type": "code",
   "execution_count": 445,
   "metadata": {},
   "outputs": [],
   "source": [
    "def f(x):\n",
    "    return 0.3*x + 0.7*np.sin(-1.5*np.pi*x)\n",
    "    #return x**4 + x**3 + x**2 + x\n",
    "    #return -x**2"
   ]
  },
  {
   "cell_type": "code",
   "execution_count": 452,
   "metadata": {},
   "outputs": [],
   "source": [
    "M = 50\n",
    "N = 20\n",
    "x = np.linspace(-1, 1, M)\n",
    "s = np.linspace(-1, 1, N)\n",
    "d = .002"
   ]
  },
  {
   "cell_type": "code",
   "execution_count": 447,
   "metadata": {},
   "outputs": [
    {
     "name": "stdout",
     "output_type": "stream",
     "text": [
      "10000 loops, best of 3: 161 µs per loop\n"
     ]
    }
   ],
   "source": [
    "%timeit gg = discreteGauss(x, s, d)"
   ]
  },
  {
   "cell_type": "code",
   "execution_count": 448,
   "metadata": {
    "scrolled": false
   },
   "outputs": [
    {
     "name": "stdout",
     "output_type": "stream",
     "text": [
      "The slowest run took 415.16 times longer than the fastest. This could mean that an intermediate result is being cached.\n",
      "1000 loops, best of 3: 425 µs per loop\n"
     ]
    }
   ],
   "source": [
    "%timeit gg = discreteGaussL(x, s, d)"
   ]
  },
  {
   "cell_type": "code",
   "execution_count": 453,
   "metadata": {},
   "outputs": [
    {
     "data": {
      "image/png": "[encoded data removed]",
      "text/plain": [
       "<matplotlib.figure.Figure at 0x7f1e07f020f0>"
      ]
     },
     "metadata": {},
     "output_type": "display_data"
    }
   ],
   "source": [
    "plt.plot(x, gg)\n",
    "plt.plot(x, f(x))\n",
    "plt.show()"
   ]
  },
  {
   "cell_type": "code",
   "execution_count": 586,
   "metadata": {},
   "outputs": [
    {
     "name": "stdout",
     "output_type": "stream",
     "text": [
      "300\n"
     ]
    },
    {
     "data": {
      "image/png": "[encoded data removed]",
      "text/plain": [
       "<matplotlib.figure.Figure at 0x7f1e055d9c88>"
      ]
     },
     "metadata": {},
     "output_type": "display_data"
    },
    {
     "data": {
      "image/png": "[encoded data removed]",
      "text/plain": [
       "<matplotlib.figure.Figure at 0x7f1e05c7bda0>"
      ]
     },
     "metadata": {},
     "output_type": "display_data"
    }
   ],
   "source": [
    "N = 20\n",
    "D, x = chebyshevDx(N)\n",
    "D2 = np.dot(D, D)\n",
    "#D2[0] = np.zeros(N+1)\n",
    "#D2[-1] = np.zeros(N+1)\n",
    "#print(D2)\n",
    "f = lambda x: -x**2 #np.sin(x)\n",
    "TMAX = .3\n",
    "dt = .001\n",
    "T = int(TMAX/dt)\n",
    "print(T)\n",
    "t = np.zeros(T)\n",
    "U = np.zeros((T, N+1))\n",
    "v = f(x)\n",
    "U[0] = v\n",
    "tt = 0\n",
    "#plt.plot(x, f(x))\n",
    "#plt.show()\n",
    "for i in range(1, T):\n",
    "    for j in range(5):\n",
    "        tt += dt\n",
    "        v = v + dt*np.dot(D2, v)\n",
    "    t[i] = tt#t[i-1] + dt \n",
    "    U[i] = v#U[i-1] + dt*np.dot(D2, U[i-1])\n",
    "    if i%5 == 0:\n",
    "        plt.plot(x, U[i])\n",
    "\n",
    "plt.show()\n",
    "plt.imshow(U, cmap=cm.jet, extent=[-1, 1,0, TMAX])\n",
    "plt.show()"
   ]
  },
  {
   "cell_type": "markdown",
   "metadata": {},
   "source": [
    "# <div id=\"desarrollo\" />\n",
    "## 2. Desarrollo\n",
    "\n",
    "<!--\n",
    "Consideren la siguiente ecuación de Poisson\n",
    "\n",
    "\\begin{equation}\n",
    "    \\frac{\\partial^2\\phi}{\\partial x^2} + \\frac{\\partial^2\\phi}{\\partial y^2} = \\frac{1}{\\pi^2}\n",
    "    \\left[30\\left(\\left(\\frac{x}{\\pi}\\right)^2-\\frac{x}{\\pi}\\right) \n",
    "    + 30\\left(\\left(\\frac{y}{\\pi}\\right)^2-\\frac{y}{\\pi}\\right) - 4\\pi^2\\left(\\frac{x}{\\pi}-1 \\right)\\sin(2y) \\right]\n",
    "\\end{equation}\n",
    "\n",
    "en el cuadrado $0\\leq x \\leq \\pi$ y $0 \\leq y \\leq \\pi$ y con condiciones de contorno $\\phi(0,y)=\\phi(\\pi,y)=\\phi(x,0)=\\phi(x,\\pi)=0$. Resuelvan numéricamente esta ecuación usando\n",
    "\n",
    "1. Método espectral\n",
    "2. Diferencias finitas aceleradas con FFT en 2D (tipo pregunta 4 de la tarea 2)\n",
    "3. Diferencias finitas aceleradas con FFT en 1D (tipo pregunta 5 de la tarea)\n",
    "\n",
    "Para mallas de $N = 16, 32, 64$ y $128$ nodos (o más!) En su informe, detalle la implementación de cada técnica y discuta los siguientes puntos:\n",
    "\n",
    "1. Convergencia del error.\n",
    "2. Complejidad algoritmica ($N$ versus tiempo).\n",
    "3. Memoria utilizada.\n",
    "4. Conclusiones con respecto a la conveniencia de cada caso.\n",
    "\n",
    "La solución analítica de esta ecuación es \n",
    "\\begin{equation}\n",
    "    \\phi(x,y) = 15\\left(\\left(\\frac{x}{\\pi}\\right)^2-\\frac{x}{\\pi}\\right)\n",
    "    \\left(\\left(\\frac{y}{\\pi}\\right)^2-\\frac{y}{\\pi}\\right)-\\sin(2y)\\frac{\\sinh(2\\pi(\\frac{x}{\\pi}-1))}{\\sinh(2\\pi)}\n",
    "    + \\left(\\frac{x}{\\pi}-1 \\right)\\sin(2y)\n",
    "\\end{equation}\n",
    "\n",
    "### Ayuda\n",
    "\n",
    "1. Esta tarea está inspirada en el Ejemplo 6.4 del libro *Fundamentals of Engineering Numerical Analysis* de Parviz Moin.\n",
    "2. Las condiciones de borde homogénea $\\phi = 0$ en los bordes son concordantes con la función seno, por lo tanto es más conveniente usar la transformada del seno. Hay una implementación de la transformada del seno en **scipy.fftpack**. Otra opción es calcular la transformada discreta del seno con FFTs de la forma:\n",
    "\n",
    "```python\n",
    "def dst_2D(x):\n",
    "    M, N = numpy.shape(x)\n",
    "    x = x[1:M−1,:]\n",
    "    M,N = numpy.shape(x)\n",
    "    y = numpy.zeros((2∗(M+1),N))\n",
    "    y[0,:] = numpy.zeros(N)[:]\n",
    "    y[1:M+1,:] = x[:,:]\n",
    "    y[M+1,:] = numpy.zeros(N)[:]\n",
    "    y[M+2:2∗M+ 2,:] = −numpy.flipud(x)[:,:]\n",
    "    y_t = fft(numpy.transpose(y))\n",
    "    y_t = numpy.transpose(y_t)\n",
    "    y = numpy.real((y_t[1:M+1])/(−1j∗(M+1)))\n",
    "    yy = numpy.zeros((M+2,N))\n",
    "    yy[1:M+1,:] = y[:,:]\n",
    "    return yy\n",
    "```\n",
    "\n",
    "```python\n",
    "def dst_1D(x):\n",
    "    M = len(x)\n",
    "    x = x[1:M−1]\n",
    "    M = len(x)\n",
    "    y = array([0])\n",
    "    y = numpy.append(y,x)\n",
    "    y = numpy.append(y,0)\n",
    "    y = numpy.append(y, −numpy.flipud(x))\n",
    "    y_t = numpy.fft.fft(y)\n",
    "    \n",
    "    y = numpy.real(y_t[1:M+1]/(−1j ∗(M+1)))\n",
    "    yy = numpy.array([0])\n",
    "    yy = numpy.append(yy, y)\n",
    "    yy = numpy.append(yy, 0)\n",
    "    return yy\n",
    "```\n",
    "Considerando que la transformada inversa del seno es igual a la transformada del seno multiplicado por $N/2$\n",
    "-->"
   ]
  },
  {
   "cell_type": "markdown",
   "metadata": {},
   "source": [
    "### Implementación de funciones"
   ]
  },
  {
   "cell_type": "code",
   "execution_count": 1,
   "metadata": {
    "collapsed": true
   },
   "outputs": [],
   "source": [
    "%matplotlib inline\n",
    "import numpy as np\n",
    "import scipy.fftpack as spfft\n",
    "import matplotlib.pyplot as plt\n",
    "import scipy.sparse as scsp\n",
    "import scipy.sparse.linalg as spla\n",
    "from mpl_toolkits.mplot3d import Axes3D\n",
    "from matplotlib import cm\n",
    "from dcst import *"
   ]
  },
  {
   "cell_type": "code",
   "execution_count": 2,
   "metadata": {
    "collapsed": true
   },
   "outputs": [],
   "source": [
    "def plot(x, y, u, plot_title=\"Test\", plot_type=\"\"):\n",
    "    \"\"\"\n",
    "    Grafica la solucion del problema.\n",
    "    \n",
    "    Parametros\n",
    "    -----------\n",
    "    x: numpy.array\n",
    "       Arreglo para el eje X\n",
    "    y: numpy.array\n",
    "       Arreglo para el eje Y\n",
    "    u: numpy.array\n",
    "       Matriz de soluciones - u(x,y)\n",
    "    plot_title: string\n",
    "        Nombre del grafico\n",
    "    plot_type: string\n",
    "        3D o de contorno\n",
    "    \n",
    "    Retorna\n",
    "    ----------\n",
    "    None, Grafico de la solucion\n",
    "    \n",
    "    \"\"\"\n",
    "    if plot_type == \"3D\":\n",
    "        fig = plt.figure(figsize=(12,8))\n",
    "        ax = fig.gca(projection='3d')\n",
    "        X, Y = np.meshgrid(x,y)\n",
    "        surf = ax.plot_surface(X, Y, u, rstride=1, cstride=1, \n",
    "                               cmap=cm.coolwarm, linewidth=0, antialiased=False)\n",
    "        ax.set_xlabel('$x$')\n",
    "        ax.set_ylabel('$y$')\n",
    "        ax.set_zlabel('$u(x,y)$')\n",
    "        ax.set_title(plot_title, fontsize=20)\n",
    "    else:    \n",
    "        plt.imshow(u, origin=\"lower\", cmap=cm.jet, extent=[0,np.pi,0,np.pi])\n",
    "        plt.title(plot_title, fontsize=20)\n",
    "        plt.colorbar()\n",
    "        \n",
    "    plt.show()\n",
    "    \n",
    "    return None"
   ]
  },
  {
   "cell_type": "code",
   "execution_count": 3,
   "metadata": {
    "collapsed": true
   },
   "outputs": [],
   "source": [
    "def L2_error(w, u):\n",
    "    return np.sqrt(np.sum((w-u)**2)/np.sum(u**2))"
   ]
  },
  {
   "cell_type": "code",
   "execution_count": 6,
   "metadata": {
    "collapsed": true
   },
   "outputs": [],
   "source": [
    "def fa(x, y):\n",
    "    X, Y = np.meshgrid(x, y)\n",
    "    return 15 * ((X/np.pi)**2 - X/np.pi) * ((Y/np.pi)**2 - Y/np.pi) \\\n",
    "        - np.sin(2*Y) * (np.sinh(2*np.pi*(X/np.pi - 1)))/np.sinh(2*np.pi) + (X/np.pi - 1) * np.sin(2*Y)"
   ]
  },
  {
   "cell_type": "code",
   "execution_count": 7,
   "metadata": {
    "collapsed": true
   },
   "outputs": [],
   "source": [
    "def f_rhs(x, y):\n",
    "    X, Y = np.meshgrid(x, y)\n",
    "    return 1/(np.pi**2) * (30 * ((X/np.pi)**2 - X/np.pi) + 30 * ((Y/np.pi)**2 - Y/np.pi) \\\n",
    "        - 4*np.pi**2* (X/np.pi - 1) * np.sin(2*Y))"
   ]
  },
  {
   "cell_type": "code",
   "execution_count": 8,
   "metadata": {
    "collapsed": true
   },
   "outputs": [],
   "source": [
    "def convergence_plot(N, error_sp, error_d2, error_df):\n",
    "    # Plot\n",
    "    plt.figure(figsize=(10, 6))\n",
    "    plt.loglog(N, error_sp, 'b-*', label=\"Espectral\")\n",
    "    plt.loglog(N, error_d2, 'r-o', label=\"DF FFT 2D\")\n",
    "    plt.loglog(N, error_df, 'g-x', label=\"DF FFT\")\n",
    "    plt.title(\"Convergencia del error\")\n",
    "    plt.xlabel(\"N\")\n",
    "    plt.ylabel(\"Error\")\n",
    "    plt.grid(True)\n",
    "    plt.legend()\n",
    "    plt.show()\n",
    "    \n",
    "    return None"
   ]
  },
  {
   "cell_type": "code",
   "execution_count": 9,
   "metadata": {
    "collapsed": true
   },
   "outputs": [],
   "source": [
    "def complexity_plot(N, time_sp, time_d2, time_df):\n",
    "    plt.figure(figsize=(10, 6))\n",
    "    plt.loglog(N, time_sp, 'b-*', label=\"Espectral\")\n",
    "    plt.loglog(N, time_d2, 'r-o', label=\"DF FFT 2D\")\n",
    "    plt.loglog(N, time_df, 'g-x', label=\"DF FFT\")\n",
    "    plt.title(\"Complejidad\")\n",
    "    plt.xlabel(\"N\")\n",
    "    plt.ylabel(\"Tiempo\")\n",
    "    plt.grid(True)\n",
    "    plt.legend()\n",
    "    plt.show()\n",
    "    \n",
    "    return None"
   ]
  },
  {
   "cell_type": "code",
   "execution_count": 11,
   "metadata": {
    "collapsed": true
   },
   "outputs": [],
   "source": [
    "n = 256\n",
    "M, N = n, n\n",
    "x = np.linspace(0, np.pi, M)\n",
    "y = np.linspace(0, np.pi, N)\n",
    "u = fa(x, y)"
   ]
  },
  {
   "cell_type": "markdown",
   "metadata": {},
   "source": [
    "<div id=\"conclusiones\" />\n",
    "## 3. Conclusiones\n",
    "\n",
    "<!--\n",
    "Del desarrollo del proyecto se obtuvieron las siguientes conclusiones:\n",
    "\n",
    "* Es posible ver que el uso de métodos relacionados con la FFT (DST), tienen resultados cualitativamente buenos para la resolución de EDP's.\n",
    "* La complejidad de los algoritmos indican que computacionalmente son métodos eficientes para este tipo de problemas.\n",
    "* Según el análisis de los gráficos no existe una diferencia significativa en los resultados de cada algoritmo, pero aún así dependerá de los recursos de cómputo disponibles.\n",
    "* Gracias a la optimización de las librerías para el cálculo de las FFT (DST), es posible obtener resultados en una cantidad de tiempo bastante inferior que aplicando los métodos usuales.\n",
    "-->"
   ]
  },
  {
   "cell_type": "markdown",
   "metadata": {},
   "source": [
    "<div id=\"referencias\" />\n",
    "## 4. Referencias \n",
    "\n",
    "* [1] Greengard, L., & Strain, J. (1991). The fast Gauss transform. SIAM Journal on Scientific and Statistical Computing, 12(1), 79-94.\t\n"
   ]
  },
  {
   "cell_type": "code",
   "execution_count": null,
   "metadata": {
    "collapsed": true
   },
   "outputs": [],
   "source": []
  }
 ],
 "metadata": {
  "kernelspec": {
   "display_name": "Python 3",
   "language": "python",
   "name": "python3"
  },
  "language_info": {
   "codemirror_mode": {
    "name": "ipython",
    "version": 3
   },
   "file_extension": ".py",
   "mimetype": "text/x-python",
   "name": "python",
   "nbconvert_exporter": "python",
   "pygments_lexer": "ipython3",
   "version": "3.6.1"
  }
 },
 "nbformat": 4,
 "nbformat_minor": 2
}
