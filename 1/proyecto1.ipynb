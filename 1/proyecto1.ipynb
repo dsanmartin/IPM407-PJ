{
 "cells": [
  {
   "cell_type": "markdown",
   "metadata": {},
   "source": [
    "<center>\n",
    "<h2>IPM-407: Modelación Computacional con Algoritmos Rápidos</h2>\n",
    "<h3>Proyecto 1 - Multigrid</h3>\n",
    "<h4>Daniel San Martín</h4>\n",
    "</center>"
   ]
  },
  {
   "cell_type": "markdown",
   "metadata": {},
   "source": [
    "# Tabla de Contenidos\n",
    "* [1. Introducción](#introduccion)\n",
    "    * [1.1 Algoritmos](#algoritmos)\n",
    "* [2. Desarrollo](#desarrollo)\n",
    "* [3. Conclusiones](#conclusiones)\n",
    "* [4. Referencias](#referencias)"
   ]
  },
  {
   "cell_type": "markdown",
   "metadata": {},
   "source": [
    "<div id=\"introduccion\" />\n",
    "## 1. Introducción\n",
    "\n",
    "En el siguiente trabajo se analizará el algoritmo **Multigrid** para la solución de ecuaciones diferenciales. Para la impementación de los métodos se utilizará la *Ecuación de Poisson*, que es una ecuación diferencial parcial (EDP) de tipo elíptica ampliamente utilzada en problemas de ingeniería mecánica. Esta EDP es de la forma\n",
    "\n",
    "\\begin{equation}\n",
    "    \\Delta u = f \n",
    "\\end{equation}\n",
    "\n",
    "donde $\\Delta$ es el operador *Laplaciano* el cual tambien se denota como $\\nabla^2$."
   ]
  },
  {
   "cell_type": "markdown",
   "metadata": {},
   "source": [
    "### Algoritmos\n",
    "\n",
    "A continuación se presenta una breve reseña de los algoritmos que serán utilizados en el trabajo. Para esto, es necesario tener presente la discretización de segundo orden de la EDP de Poisson:\n",
    "\n",
    "\\begin{equation}\n",
    "\\begin{split}\n",
    "    \\Delta u &= f \\\\\n",
    "    \\frac{\\partial^2 u}{\\partial x^2} + \\frac{\\partial^2 u}{\\partial y^2} &= f \\\\\n",
    "    \\frac{u_{i+1,j}-2u_{i,j}+u_{i-1,j}}{\\Delta x^2} + \\frac{u_{i,j+1}-2u_{i,j}+u_{i,j-1}}{\\Delta y^2} & = f_{i,j}\n",
    "\\end{split}\n",
    "\\end{equation}\n",
    "\n",
    "Donde $i,j$ denota la evaluación del punto en el par $(i\\Delta x, j\\Delta y)$. Nótese que si $\\Delta x = \\Delta y = h$, podemos simplificar la ecuación a\n",
    "\n",
    "\\begin{equation}\n",
    "    u_{i+1,j} + u_{i-1,j} + u_{i,j+1} + u_{i,j-1} - 4u_{i,j} = h^2 f_{i,j}\n",
    "\\end{equation}\n",
    "\n",
    "Vale decir que esto genera un sistema de ecuaciones lineales representable de la forma $A\\textbf{u}=\\textbf{f}$, donde $A$ se conoce como la matriz de Laplace, $\\textbf{u}$ corresponde a la solución aproximada en los puntos respectivos y $\\textbf{f}$ es el vector de la evaluación de cada punto de la función $f$."
   ]
  },
  {
   "cell_type": "markdown",
   "metadata": {},
   "source": [
    "#### Método Gauss-Seidel\n",
    "\n",
    "El **método de Gauss-Seidel** es un método iterativo utilizado para resolver sistemas de ecuaciones lineales. El método se llama así en honor a los matemáticos alemanes Carl Friedrich Gauss y Philipp Ludwig von Seidel y es similar al método de Jacobi.\n",
    "\n",
    "En el contexto del problema que deseamos resolver, sea $A$ una matriz, $\\textbf{u}$ el vector de aproximación de la solución y $\\textbf{f}$ el vector del lado derecho del sistema, el método descompone la matriz $A$ en 3 matrices; $D$ matriz diagonal, $L$ matriz diagonal inferior y $U$ matriz diagonal superior, de esta forma el algoritmo puede ser escrito como:\n",
    "\n",
    "\\begin{equation}\n",
    "\\begin{split}\n",
    "    A \\textbf{u} & = \\textbf{f} \\\\\n",
    "    (D - L - U)\\textbf{u} & = \\textbf{f} \\\\\n",
    "    (D - L)\\textbf{u} & = \\textbf{f} + U\\textbf{u} \\\\ \n",
    "    \\textbf{u}^{k+1} & = (D - L)^{-1}\\textbf{f} + U\\textbf{u}^{k}\n",
    "\\end{split}\n",
    "\\end{equation}\n",
    "\n",
    "Del algoritmo notamos que es necesario calcular una matriz inversa, lo que resulta muy costoso computacionalmente  ($O(n^3)$), es por esto que podemos aprovechar ciertas propiedades del orden de recorrido de la grilla que se desea simular además de la biblioteca *Numba* de *Python*, y de esta forma acelerar el cómputo de la simulación.\n",
    "\n",
    "<img src=\"img/solvepath.png\" width=\"30%\" />\n",
    "<center>*Figura 1. Orden de cálculo para cada nodo de la grilla.*</center>\n",
    "\n",
    "Nótese que si expresamos el método G-S en términos de la discretización realizada anteriormente obtenemos la siguiente expresión \n",
    "\n",
    "\\begin{equation}\n",
    "    u^{k+1}_{i,j} = \\frac{1}{4} \\left(u^{k+1}_{i,j-1} + u^k_{i,j+1} + u^{k+1}_{i-1,j} + u^k_{i+1,j} - h^2 f_{i,j} \\right)\n",
    "\\end{equation}\n",
    "\n",
    "donde podemos tomar el orden mostrado en la *Figura 1* para que cada punto $u^{k}$ se actualice justo antes que $u^{k+1}$ los necesite en su cálculo y de esta manera no tener problemas de incoherencia en cuanto a las aproximaciones. Dado que es necesario recorrer un doble ciclo, la biblioteca de *Python* mencionada anteriormente nos ayudará a acelerar el cálculo (más aún cuando es necesaria una cantidad no menor de iteraciones para obtener una buena solución)."
   ]
  },
  {
   "cell_type": "markdown",
   "metadata": {},
   "source": [
    "#### V-Cycle\n",
    "\n",
    "Este algoritmo se desplaza hasta la malla más gruesa, que puede consistir en uno o unos pocos puntos de la malla interior, y luego regresa a la malla más fina. La figura 2  muestra el comportamiento de las mallas según el orden en que se utilizan. Debido al patrón en este diagrama, este algoritmo se llama *V-Cycle*. Este algoritmo es considerado un tipo de *Multigrid*.\n",
    "\n",
    "<img src=\"img/v-cycle.png\" />\n",
    "<center>*Figura 2. Diagrama V-Cycle*</center>\n",
    "\n",
    "El algoritmo definido recursivamente es el siguiente:\n",
    "\n",
    "\\begin{equation}\n",
    "    \\textbf{v}^{h} \\leftarrow V^{h}(\\textbf{v}^{h}, \\textbf{f}^{h}).\n",
    "\\end{equation}\n",
    "1. Relajar $\\nu_1$ veces sobre $A^h\\textbf{u}^h=\\textbf{f}^h$ con estimación inicial $\\textbf{v}^h$.\n",
    "2. Si $\\Omega^h$ es la malla mas gruesa, entonces ir al paso 4.\n",
    "\n",
    "   Sino\n",
    "\\begin{equation}\n",
    "\\begin{split}\n",
    "    \\textbf{f}^{2h} & \\leftarrow I^{2h}_{h}(\\textbf{f}^h - A^h\\textbf{v}^h) \\\\\n",
    "    \\textbf{v}^{2h} & \\leftarrow \\textbf{0} \\\\\n",
    "    \\textbf{v}^{2h} & \\leftarrow V^{2h}(\\textbf{v}^{2h}, \\textbf{f}^{2h}).\n",
    "\\end{split}\n",
    "\\end{equation}\n",
    "\n",
    "3. Corregir $\\textbf{v}^h \\leftarrow \\textbf{v}^h + I^{h}_{2h}\\textbf{v}^{2h}$.\n",
    "4. Relajar $\\nu_2$ veces sobre $A^h\\textbf{u}^h=\\textbf{f}^h$ con estimación inicial $\\textbf{v}^h$"
   ]
  },
  {
   "cell_type": "markdown",
   "metadata": {},
   "source": [
    "#### Multigrid\n",
    "\n",
    "Hay muchas variaciones de algoritmos *multigrid*, pero las características comunes son que se considera \n",
    "una jerarquía de discretizaciones (mallas). Los pasos importantes son\n",
    "\n",
    "* *Suavizado*: Reducir error de alta frecuencia, por ejemplo utilizando un par de iteraciones del método de Gauss-Seidel.\n",
    "* *Restricción*: Muestreo del error residual a una malla más gruesa.\n",
    "* *Interpolación* o *prolongación*: Interpolar una corrección calculada sobre una malla más gruesa en una malla más fina.\n",
    "\n",
    "La figura 3 muestra el paso por las mallas del algoritmo con $\\nu_0 = 1$. Cada *V-cycle* es precedido por otro *V-cycle* de una malla gruesa diseñada para entregar una mejor estimación inicial posible.\n",
    "\n",
    "<img src=\"img/fmg.png\" />\n",
    "<center>*Figura 3. Diagrama Multigrid*</center>\n",
    "\n",
    "El Algoritmo *FUll Multigrid V-Cycle* de forma recursiva se define así:\n",
    "\n",
    "\\begin{equation}\n",
    "    \\textbf{v}^{h} \\leftarrow FMG^h(\\textbf{f}^h).\n",
    "\\end{equation}\n",
    "\n",
    "1. Si $\\Omega^h$ es la malla más gruesa, definir $\\textbf{v} \\leftarrow \\textbf{0}$ e ir al paso 3.\n",
    "   Sino\n",
    "\\begin{equation}\n",
    "\\begin{split}\n",
    "    \\textbf{f}^{2h} & \\leftarrow I^{2h}_{h}(\\textbf{f}^h), \\\\\n",
    "    \\textbf{v}^{2h} & \\leftarrow FMG^{2h}(\\textbf{f}^{2h}).\n",
    "\\end{split}\n",
    "\\end{equation}\n",
    "2. Corregir $\\textbf{v}^h \\leftarrow I^{h}_{2h}\\textbf{v}^{2h}$.\n",
    "3. $\\textbf{v}^{h} \\leftarrow V^{h}(\\textbf{v}^{h}, \\textbf{f}^{h}) ~ \\nu_0$ veces."
   ]
  },
  {
   "cell_type": "markdown",
   "metadata": {},
   "source": [
    "<div id=\"desarrollo\" />\n",
    "## 2. Desarrollo"
   ]
  },
  {
   "cell_type": "markdown",
   "metadata": {},
   "source": [
    "La ecuación diferencial \n",
    "\n",
    "\\begin{equation}\n",
    "\\begin{split}\n",
    "    \\frac{\\partial^2u}{\\partial x^2} + \\frac{\\partial^2u}{\\partial y^2} & = -2[(1-6x^2)y^2(1-y^2) + (1-6y^2)x^2(1-x^2)] \\\\\n",
    "    u & = 0 ~ \\text{en} ~ x = 0, x = 1, y = 0, y = 1 \\\\\n",
    "    0 & < x, y < 1\n",
    "\\end{split}\n",
    "\\end{equation}\n",
    "\n",
    "tiene como solución analítica\n",
    "\n",
    "\\begin{equation}\n",
    "    u(x,y) = (x^2 - x^4)(y^4-y^2)\n",
    "\\end{equation}"
   ]
  },
  {
   "cell_type": "markdown",
   "metadata": {},
   "source": [
    "Resuelva la ecuación diferencial numéricamente con una discretización de segundo orden, usando\n",
    "\n",
    "1. Gauss-Seidel\n",
    "2. V-cycle, con $\\nu_1=2$ y $\\nu_2 = 2$ iteraciones subiendo y bajando en las mallas.\n",
    "3. Multigrid, con $\\nu_0=1$ V-cycle por malla.\n",
    "\n",
    "Considere lo siguiente:\n",
    "\n",
    "* Malla fina con 129 nodos por dimensión $(\\Delta x = \\frac{L}{N-1})$.\n",
    "* Interpolación lineal y *full weightening* como operadores entre mallas.\n",
    "* Toleracia de $10^{-8}$ del residual.\n",
    "\n",
    "Su nota dependerá de un informe (no más de 10 páginas) y presentación (de no más de 10 minutos) donde deben\n",
    "\n",
    "* Indicar el número de iteraciones, V-cycles, multigrids necesarios para llegar a la solución en cada caso.\n",
    "* Indicar el tiempo de solución en cada caso ¿Se cumple la predicción teórica que vimos en clase? (recuerden que cuatificamos la cantidad de operaciones por unidad de ciclos de Gauss-Seidel).\n",
    "* Realizar simulaciones con malla fina de 65, 129 y 257 nodos por dimensión usando V-cycles y Multigrid, y graficar el tiempo de solución versus el tamaño de malla fina (gráfico log-log) ¿Se cumple la complejidad algoritmica que derivamos en clase?\n",
    "* Estudie el efecto de variar $\\nu_0$, $\\nu_1$ y $\\nu_2$ ¿Puede proponer una combinación ideal?\n",
    "* Estudie el efecto de cambiar full weightening por injection\n",
    "\n",
    "En su informe y presentación deben además incluir una breve reseña del algoritmo e implementación, y sus conclusiones."
   ]
  },
  {
   "cell_type": "code",
   "execution_count": 1,
   "metadata": {
    "collapsed": false
   },
   "outputs": [],
   "source": [
    "%matplotlib inline\n",
    "import numpy as np\n",
    "import matplotlib.pyplot as plt\n",
    "from mpl_toolkits.mplot3d import Axes3D\n",
    "from matplotlib import cm\n",
    "from numba import jit"
   ]
  },
  {
   "cell_type": "code",
   "execution_count": 2,
   "metadata": {
    "collapsed": true
   },
   "outputs": [],
   "source": [
    "def plot(x, y, u, plot_title, plot_type=\"3D\"):\n",
    "    \"\"\"\n",
    "    Grafica la solucion del problema.\n",
    "    \n",
    "    Parametros\n",
    "    -----------\n",
    "    x: numpy.array\n",
    "       Arreglo para el eje X\n",
    "    y: numpy.array\n",
    "       Arreglo para el eje Y\n",
    "    u: numpy.array\n",
    "       Matriz de soluciones - u(x,y)\n",
    "    plot_title: string\n",
    "        Nombre del grafico\n",
    "    plot_type: string\n",
    "        3D o de contorno\n",
    "    \n",
    "    Retorna\n",
    "    ----------\n",
    "    None, Grafico de la solcuion\n",
    "    \n",
    "    \"\"\"\n",
    "    if plot_type == \"3D\":\n",
    "        fig = plt.figure(figsize=(12,8))\n",
    "        ax = fig.gca(projection='3d')\n",
    "        X, Y = np.meshgrid(x,y)\n",
    "        surf = ax.plot_surface(X, Y, u, rstride=1, cstride=1, \n",
    "                               cmap=cm.coolwarm, linewidth=0, antialiased=False)\n",
    "        ax.set_xlim(0,1)\n",
    "        ax.set_ylim(0,1)\n",
    "        ax.set_xlabel('$x$')\n",
    "        ax.set_ylabel('$y$')\n",
    "        ax.set_zlabel('$u(x,y)$')\n",
    "        ax.set_title(plot_title, fontsize=20)\n",
    "    else:    \n",
    "        plt.imshow(u, origin=\"lower\", cmap=cm.jet, extent=[0,1,0,1])\n",
    "        plt.title(plot_title, fontsize=20)\n",
    "        plt.colorbar()\n",
    "        \n",
    "    plt.show()\n",
    "    \n",
    "    return None"
   ]
  },
  {
   "cell_type": "code",
   "execution_count": 3,
   "metadata": {
    "collapsed": true
   },
   "outputs": [],
   "source": [
    "def plotTN(N, tgs, tvc, tmg):\n",
    "    \"\"\"\n",
    "    Grafica de tiempo vs N\n",
    "    \n",
    "    Parametros\n",
    "    -----------\n",
    "    N: array/list\n",
    "       Valores de N\n",
    "    tgs: array/list\n",
    "        Tiempo de Gauss-Seidel\n",
    "    tvc: array/list\n",
    "        Tiempo de V-Cycle\n",
    "    tmg: array/list\n",
    "        Tiempo de Multigrid\n",
    "    \n",
    "    Retorna\n",
    "    -----------\n",
    "    None, grafico T vs N\n",
    "    \n",
    "    \"\"\"\n",
    "    plt.figure(figsize=(12,8))\n",
    "    plt.loglog(N, tgs, 'b-o', label=\"Gauss-Seidel\")\n",
    "    plt.loglog(N, tvc, 'r-*', label=\"V-Cycle\")\n",
    "    plt.loglog(N, tmg, 'g-D', label=\"Multigrid\")\n",
    "    plt.grid(True)\n",
    "    plt.legend()\n",
    "    plt.xlabel(r\"$\\log(N)$\", fontsize=16)\n",
    "    plt.ylabel(r\"$\\log(t)$\", fontsize=16)\n",
    "    plt.title(\"Gráfico Tiempo vs Tamano\")\n",
    "    plt.plot()\n",
    "    \n",
    "    return None"
   ]
  },
  {
   "cell_type": "code",
   "execution_count": 4,
   "metadata": {
    "collapsed": true
   },
   "outputs": [],
   "source": [
    "def plotINFW(N, evci, evcf, emgi, emgf):\n",
    "    \"\"\"\n",
    "    Grafica de Error vs N para 'Injection' y 'Fullweighting'\n",
    "    \n",
    "    Parametros\n",
    "    -----------\n",
    "    N: array/list\n",
    "       Valores de N\n",
    "    evci: array/list\n",
    "        Error V-Cycle con injection\n",
    "    evcf: array/list\n",
    "        Error V-Cycle con fullweighting\n",
    "    emgi: array/list\n",
    "        Error Multigrid con injection\n",
    "    emgf: array/list\n",
    "        Error Multigrid con fullweighting\n",
    "    \n",
    "    Retorna\n",
    "    -----------\n",
    "    None, grafico T vs N\n",
    "    \n",
    "    \"\"\"\n",
    "    plt.figure(figsize=(12,8))\n",
    "    plt.plot(N, evci, 'b-o', label=\"V-Cycle con Injection\")\n",
    "    plt.plot(N, evcf, 'r-*', label=\"V-Cycle con Fullweighting\")\n",
    "    plt.plot(N, emgi, 'g-D', label=\"Multigrid con Injection\")\n",
    "    plt.plot(N, emgf, 'k-x', label=\"Multigrid con Fullweighting\")\n",
    "    plt.grid(True)\n",
    "    plt.legend()\n",
    "    plt.xlabel(r\"$N$\", fontsize=16)\n",
    "    plt.ylabel(r\"$Error$\", fontsize=16)\n",
    "    plt.title(\"Gráfico Error vs Tamano\")\n",
    "    plt.plot()\n",
    "    \n",
    "    return None"
   ]
  },
  {
   "cell_type": "code",
   "execution_count": 5,
   "metadata": {
    "collapsed": true
   },
   "outputs": [],
   "source": [
    "def ff(x, y):\n",
    "    \"\"\"\n",
    "    RHS de la ecuacion\n",
    "    \n",
    "    Parametros\n",
    "    -----------\n",
    "    x: array\n",
    "        Valores de x\n",
    "    y: array\n",
    "        Valores de y\n",
    "        \n",
    "    Retorna\n",
    "    -----------\n",
    "    F(X,Y): matrix\n",
    "        Valores de la funcion evaluada en (x,y)\n",
    "        \n",
    "    \"\"\"\n",
    "    X, Y = np.meshgrid(x, y)\n",
    "    return -2 *((1-6*X**2) * Y**2 * (1-Y**2) + (1-6*Y**2) * X**2 * (1-X**2))"
   ]
  },
  {
   "cell_type": "code",
   "execution_count": 6,
   "metadata": {
    "collapsed": true
   },
   "outputs": [],
   "source": [
    "def fa(x, y):\n",
    "    \"\"\"\n",
    "    Solucion analitica la EDP\n",
    "    \n",
    "    Parametros\n",
    "    -----------\n",
    "    x: array\n",
    "        Valores de x\n",
    "    y: array\n",
    "        Valores de y\n",
    "        \n",
    "    Retorna\n",
    "    -----------\n",
    "    F(X,Y): matrix\n",
    "        Valores de la funcion analitica evaluada en (x,y)\n",
    "        \n",
    "    \"\"\"\n",
    "    X, Y = np.meshgrid(x, y)\n",
    "    return (X**2 - X**4) * (Y**4 - Y**2)"
   ]
  },
  {
   "cell_type": "code",
   "execution_count": 7,
   "metadata": {
    "collapsed": true
   },
   "outputs": [],
   "source": [
    "# Residual\n",
    "@jit(nopython=True)\n",
    "def L2_residual(v, b):\n",
    "    \"\"\"\n",
    "    Calculo del error residual norma_L2(r = b - Ax)\n",
    "    \n",
    "    Parametros\n",
    "    -----------\n",
    "    v: array\n",
    "        Solucion aproximada\n",
    "    b: array\n",
    "        Lado derecho del sistema\n",
    "        \n",
    "    Retorna\n",
    "    -----------\n",
    "    Error residual L2: float\n",
    "        \n",
    "    \"\"\"\n",
    "    dx = 1/(len(b) - 1)\n",
    "    res = b[1:-1,1:-1] - (1/dx**2)*(v[:-2,1:-1] + v[2:,1:-1] \\\n",
    "                                    + v[1:-1,:-2] + v[1:-1,2:] - 4*v[1:-1,1:-1])\n",
    "    return np.sqrt(np.sum((res*res)))"
   ]
  },
  {
   "cell_type": "code",
   "execution_count": 8,
   "metadata": {
    "collapsed": false
   },
   "outputs": [],
   "source": [
    "@jit(nopython=True)\n",
    "def gauss_seidel(u, f, n_iter, tol=1e-8, verb=False):\n",
    "    \"\"\"\n",
    "    Gauss-Seidel para ecuacion de Poissson con discretizacion en 2D.\n",
    "    \n",
    "    Parametros\n",
    "    -----------\n",
    "    u: array\n",
    "        Aproximacion inicial\n",
    "    f: array\n",
    "        Lado derecho del sistema (o f en contexto de la EDP)\n",
    "    n_iter: int\n",
    "        Maximo numero de iteraciones\n",
    "    tol: float\n",
    "        Tolerancia del residuo\n",
    "    verb: boolean\n",
    "        Muestra informacion del algoritmo\n",
    "    \n",
    "    Retorna\n",
    "    -----------\n",
    "    u: array\n",
    "        Aproximacion de la solucion del sistema\n",
    "        \n",
    "    \"\"\"\n",
    "    res = 1 # Residual\n",
    "    k = 0 # Iteraciones\n",
    "    L = 1\n",
    "    h = L/(len(u)-1) # L/(N-1)\n",
    "\n",
    "    while res > tol and k < n_iter:\n",
    "        res = .0\n",
    "        \n",
    "        # Recorrido de la grilla segun Figura 1 de la introduccion\n",
    "        for j in range(1, len(u)-1): \n",
    "            for i in range(1, len(u)-1):\n",
    "                u[j,i] = .25 * (u[j,i-1] + u[j,i+1] + u[j-1,i] + u[j+1,i] - f[j,i]*h**2)        \n",
    "            \n",
    "        res = L2_residual(u, f)\n",
    "        \n",
    "        k += 1        \n",
    "    \n",
    "    if verb: print(\"Numero de iteraciones G-S:\", k)\n",
    "    return u"
   ]
  },
  {
   "cell_type": "code",
   "execution_count": 9,
   "metadata": {
    "collapsed": true
   },
   "outputs": [],
   "source": [
    "def interpolation(a):\n",
    "    \"\"\"\n",
    "    Interpolacion lineal\n",
    "    \n",
    "    Parametros\n",
    "    -----------\n",
    "    a: array\n",
    "        Matriz a interpolar\n",
    "        \n",
    "    Retorna\n",
    "    -----------\n",
    "    p: array\n",
    "        Matriz con interpolacion lineal\n",
    "        \n",
    "    \"\"\"\n",
    "    m, n = a.shape\n",
    "    p = np.empty((2*m-1, 2*n-1), float)\n",
    "    \n",
    "    p[0::2,0::2] = a[0:,0:]\n",
    "    p[1:-1:2,0::2] = 0.5*(a[0:-1,0:] + a[1:,0:])\n",
    "    p[0::2,1:-1:2] = 0.5*(a[0: ,0:-1] + a[0:,1:])\n",
    "    p[1:-1:2,1:-1:2] = 0.25*(a[0:-1,0:-1] + a[1:,0:-1] + a[0:-1,1:]+a[1:,1:])\n",
    "    \n",
    "    return p"
   ]
  },
  {
   "cell_type": "code",
   "execution_count": 10,
   "metadata": {
    "collapsed": false
   },
   "outputs": [],
   "source": [
    "def restriction(a, rtype=\"fw\"):\n",
    "    \"\"\"\n",
    "    Matriz de restriccion\n",
    "    \n",
    "    Parametros\n",
    "    -----------\n",
    "    a: array\n",
    "        Matriz a restringir\n",
    "    rtype: string\n",
    "        Tipo de restriccion \n",
    "        \"in\": injection, \"hw\": halfweighting, fw: fullweighting (defecto)\n",
    "        \n",
    "    Retorna\n",
    "    -----------\n",
    "    r: array\n",
    "        Matriz restringida\n",
    "    \n",
    "    \"\"\"\n",
    "    m, n = a.shape\n",
    "    r = np.empty((int(m/2)+1, int(n/2)+1), float)\n",
    "    \n",
    "    if rtype == \"fw\": #Full weighting\n",
    "        r[1:-1,1:-1] = 0.25 * a[2:-1:2,2:-1:2] + \\\n",
    "                    0.125 * (a[2:-1:2,1:-2:2] + a[2:-1:2,3: :2] \\\n",
    "                             + a[1:-2:2,2:-1:2] + a[3: :2,2:-1:2]) + \\\n",
    "                    0.0625 * (a[2:-1:2,:-3:2] + a[2:-1:2,2:-1:2] + \\\n",
    "                              a[4::2,:-3:2] + a[4::2,2:-1:2])\n",
    "        r[0,0:] = a[0,0::2]\n",
    "        r[-1,0:] = a[-1,0::2]\n",
    "        r[0:,0] = a[0::2,0]\n",
    "        r[0:,-1] = a[0: :2,-1]\n",
    "        \n",
    "    elif rtype == \"in\": # Injection\n",
    "        r[1:-1,1:-1] = a[2:-1:2,2:-1:2]\n",
    "        r[0,0:] = a[0,0::2]\n",
    "        r[-1,0:] = a[-1,0::2]\n",
    "        r[0:,0] = a[0::2,0]\n",
    "        r[0:,-1] = a[0::2,-1]\n",
    "        \n",
    "    elif rtype == \"hw\": #Half weighting\n",
    "        r[1:-1,1:-1] = 0.5*a[2:-1:2,2:-1:2] + 0.125 * (a[2:-1:2,1:-2:2] + \\\n",
    "                        a[2:-1:2,3: :2] + a[1:-2:2,2:-1:2] + a[3: :2,2:-1:2])\n",
    "        r[0,0:] = a[0,0: :2]\n",
    "        r[-1,0:] = a[-1,0: :2]\n",
    "        r[0:,0] = a[0: :2,0]\n",
    "        r[0:,-1] = a[0: :2,-1]\n",
    "        \n",
    "    return r"
   ]
  },
  {
   "cell_type": "code",
   "execution_count": 11,
   "metadata": {
    "collapsed": false
   },
   "outputs": [],
   "source": [
    "@jit(nopython=True)\n",
    "def L2_error(v, u):\n",
    "    \"\"\"\n",
    "    Calcula el error con norma L2\n",
    "    \n",
    "    Paramentros\n",
    "    ------------\n",
    "    v: array\n",
    "        Aproximacion de la solucion\n",
    "    u: array\n",
    "        Solucion analitica\n",
    "        \n",
    "    \n",
    "    Retorna\n",
    "    L2_error: float\n",
    "        Error con norma L2\n",
    "    \n",
    "    \"\"\"\n",
    "    return np.linalg.norm(v-u)/np.linalg.norm(u)"
   ]
  },
  {
   "cell_type": "code",
   "execution_count": 12,
   "metadata": {
    "collapsed": false
   },
   "outputs": [],
   "source": [
    "def Vcycle(v, f, nu1, nu2, rtype=\"fw\", verb=False):\n",
    "    \"\"\"\n",
    "    Algoritmo V-Cycle\n",
    "    \n",
    "    Parametros\n",
    "    -----------\n",
    "    v: array (matrix)\n",
    "        Aproximacion inicial\n",
    "    f: array (matrix)\n",
    "        RHS de la EDP\n",
    "    nu1: int \n",
    "        Cantidad de relajaciones iniciales\n",
    "    nu2: int\n",
    "        Cantidad de relajaciones finales\n",
    "    rtype: string\n",
    "        Tipo de restriccion \n",
    "        \"in\": injection, \"hw\": halfweighting, fw: fullweighting (defecto)\n",
    "    verb: boolean\n",
    "        Muestra informacion del algoritmo\n",
    "    \n",
    "    Retorna\n",
    "    -----------\n",
    "    u: array (matrix)\n",
    "        Aproximacion luego de un V-Cycle\n",
    "    \n",
    "    \"\"\"\n",
    "    size = len(v) \n",
    "    dx = 1/(size-1)\n",
    "    \n",
    "    if verb: \n",
    "        print(\"V-Cycle: Bajando de malla (%d, %d)\"%v.shape)\n",
    "    \n",
    "    # Paso 1 del algoritmo (Relajación inicial)\n",
    "    v = gauss_seidel(v, f, nu1, verb=verb)\n",
    "    \n",
    "    # Paso 2 Si es la malla mas gruesa ir al paso 4.\n",
    "    # Paso 2 Sino es la malla mas gruesa.\n",
    "    if size > 7:\n",
    "        \n",
    "        # Calculo del residuo\n",
    "        residual = f[1:-1,1:-1] - (1/dx**2)*(v[:-2,1:-1] + v[2:,1:-1] \\\n",
    "                                             + v[1:-1,:-2] + v[1:-1,2:] - 4*v[1:-1,1:-1])\n",
    "        \n",
    "        # Incluir condiciones de borde\n",
    "        r = np.zeros_like(v) \n",
    "        r[1:-1,1:-1] = residual\n",
    "        \n",
    "        # Restriccion del residuo\n",
    "        f2h = restriction(r, rtype=rtype)\n",
    "        \n",
    "        # Estimacion inicial v^{2h} = 0\n",
    "        v2h = np.zeros_like(f2h)\n",
    "        \n",
    "        # V-Cycle en la siguiente malla mas gruesa\n",
    "        vC = Vcycle(v2h, f2h, nu1, nu2, rtype=rtype, verb=verb) \n",
    "        \n",
    "        # Paso 3. Corregir la estimación utilizando la interpolacion de la malla mas gruesa\n",
    "        I = interpolation(vC)\n",
    "        v = v + I         \n",
    "        \n",
    "        if verb:\n",
    "            print(\"V-cycle: Subiendo a malla (%d, %d)\"% I.shape)\n",
    "        \n",
    "    # Paso 4. Segunda relajacion \n",
    "    u = gauss_seidel(v, f, nu2, verb=verb)\n",
    "\n",
    "    return u\n",
    "\n",
    "def Nvcycles(v, f, nu1, nu2, rtype=\"fw\", n_iter=30, tol=1e-8, verb=False):\n",
    "    \"\"\"\n",
    "    Funcion que controla ejecuta N v-cycles hasta alcanzar tolerancia\n",
    "    \n",
    "    v: array (matri)\n",
    "        Aproximacion inicial\n",
    "    f: array (matrix)\n",
    "        RHS de la EDP\n",
    "    nu1: int \n",
    "        Cantidad de relajaciones iniciales\n",
    "    nu2: int\n",
    "        Cantidad de relajaciones finales\n",
    "    rtype: string\n",
    "        Tipo de restriccion \n",
    "        \"in\": injection, \"hw\": halfweighting, fw: fullweighting (defecto)\n",
    "    n_iter: int\n",
    "        Maximo numero de iteraaciones\n",
    "    tol: float\n",
    "        Tolerancia (defecto 1e-8)\n",
    "    verb: boolean\n",
    "        Muestra informacion del algoritmo\n",
    "    \n",
    "    Retorna\n",
    "    -----------\n",
    "    v: array (matrix)\n",
    "        Aproximacion luego de N V-Cycle\n",
    "    \n",
    "    \"\"\"\n",
    "    k = 0\n",
    "    res = 1\n",
    "    \n",
    "    while k < n_iter and res > tol:\n",
    "        \n",
    "        sol = Vcycle(v, f, nu1, nu2, rtype=rtype)\n",
    "        v = sol\n",
    "        \n",
    "        res = L2_residual(v, f)\n",
    "        \n",
    "        k += 1\n",
    "        \n",
    "    if verb:\n",
    "        print(\"N° de V-Cycles:\", k)\n",
    "        \n",
    "    return v"
   ]
  },
  {
   "cell_type": "code",
   "execution_count": 13,
   "metadata": {
    "collapsed": false
   },
   "outputs": [],
   "source": [
    "def FMG(f, nu0, nu1, nu2, rtype=\"fw\", verb=False):\n",
    "    \"\"\"\n",
    "    Algoritmo Full Multigrid\n",
    "    \n",
    "    Parametros\n",
    "    -----------\n",
    "    f: array (matrix)\n",
    "        RHS de la EDP\n",
    "    nu0: int\n",
    "        Numero de V-Cycles\n",
    "    nu1: int \n",
    "        Cantidad de relajaciones iniciales para V-Cycle\n",
    "    nu2: int\n",
    "        Cantidad de relajaciones finales para V-Cycle\n",
    "    rtype: string\n",
    "        Tipo de restriccion \n",
    "        \"in\": injection, \"hw\": halfweighting, fw: fullweighting (defecto)\n",
    "    verb: boolean\n",
    "        Muestra informacion del algoritmo\n",
    "    \n",
    "    Retorna\n",
    "    -----------\n",
    "    u: array (matrix)\n",
    "        Aproximacion luego de aplicar FMG\n",
    "    \n",
    "    \"\"\"\n",
    "    if verb: print(\"FMG: Bajando de malla (%d, %d)\"% f.shape)\n",
    "    \n",
    "    # Paso 1. Si es la malla mas gruesa\n",
    "    if len(f) < 7:\n",
    "        v = np.zeros_like(f)\n",
    "        return v\n",
    "    \n",
    "    # Paso 1 sino es la malla mas gruesa\n",
    "    f2h = restriction(f, rtype=rtype)\n",
    "    \n",
    "    # FMG en la siguiente malla\n",
    "    v2h = FMG(f2h, nu0, nu1, nu2, rtype=rtype, verb=verb)\n",
    "    \n",
    "    # Paso 2. Correccion de la aproximacion\n",
    "    v = interpolation(v2h)\n",
    "    \n",
    "    if verb: print(\"FMG: Subiendo a malla (%d, %d)\"% v.shape)\n",
    "    \n",
    "    # Paso 3. Aplicar V-Cycle nu0 veces\n",
    "    for i in range(nu0):\n",
    "        u = Vcycle(v, f, nu1, nu2, rtype=rtype, verb=verb)\n",
    "    \n",
    "    return u"
   ]
  },
  {
   "cell_type": "code",
   "execution_count": 18,
   "metadata": {
    "collapsed": false
   },
   "outputs": [],
   "source": [
    "def simulacion(N, method, plot_type=None, verb=False):\n",
    "    \"\"\"\n",
    "    Realiza simulacion con parametros del proyecto\n",
    "    \n",
    "    Parametros\n",
    "    -----------\n",
    "    N: int\n",
    "        Numero de puntos\n",
    "    method: string\n",
    "        Metodo numerico\n",
    "    plot_type: string\n",
    "        Tipo de grafico\n",
    "    verb: boolean\n",
    "        Muestra informacion de la simulacion\n",
    "        \n",
    "    Retorna\n",
    "    ---------\n",
    "    None, Muestra error y grafica la aproximacion la solucion\n",
    "    \n",
    "    \"\"\"\n",
    "    # Estimacion inicial\n",
    "    v = np.zeros((N,N))\n",
    "    \n",
    "    # Malla XY\n",
    "    x = np.linspace(0, 1, N)\n",
    "    y = np.linspace(0, 1, N)\n",
    "    \n",
    "    # Parametros solicitados\n",
    "    nu0 = 1; nu1 = 2; nu2 = 2\n",
    "    \n",
    "    sol = None # Solucion\n",
    "    \n",
    "    # RHS de la EDP\n",
    "    fff = ff(x,y)\n",
    "    \n",
    "    # Solucion numerica Gauss-Seidel\n",
    "    if method == \"gs\":\n",
    "        plot_title = \"Solucion con Gauss-Seidel\"\n",
    "        print(\"Gauss-Seidel N=\" + str(N))\n",
    "        sol = gauss_seidel(v, fff, 100000, verb=verb)\n",
    "    \n",
    "    # Solucion numerica V-Cycle\n",
    "    elif method == \"vc\":\n",
    "        plot_title = \"Solucion con V-Cycle\"\n",
    "        print(\"V-Cycle N=\" + str(N))\n",
    "        sol = Nvcycles(v, fff, nu1, nu2, rtype=\"fw\", verb=verb)\n",
    "        \n",
    "    # Solucion numerica Multigrid\n",
    "    elif method == \"mg\":\n",
    "        plot_title = \"Solucion con Multigrid\"\n",
    "        print(\"Multigrid N=\" + str(N))\n",
    "        sol = FMG(ff(x,y), nu0, nu1, nu2, verb=verb)\n",
    "    \n",
    "    # Solucion analitica\n",
    "    else:\n",
    "        plot_title = \"Solucion Analitica\"\n",
    "        sol = fa(x, y)\n",
    "        \n",
    "    print(\"Error:\", L2_error(sol, fa(x,y)))\n",
    "    \n",
    "    # Grafico de la solucion\n",
    "    if plot_type != None:\n",
    "        plot_title += \" N = \" + str(N)\n",
    "        plot(x, y, sol, plot_title, plot_type)\n",
    "    \n",
    "    return None"
   ]
  },
  {
   "cell_type": "markdown",
   "metadata": {},
   "source": [
    "### Resolución de la ecuación con distintos métodos"
   ]
  },
  {
   "cell_type": "markdown",
   "metadata": {},
   "source": [
    "#### Solución Analítica"
   ]
  },
  {
   "cell_type": "code",
   "execution_count": 15,
   "metadata": {
    "collapsed": false,
    "scrolled": false
   },
   "outputs": [
    {
     "name": "stdout",
     "output_type": "stream",
     "text": [
      "Error: 0.0\n"
     ]
    },
    {
     "data": {
      "image/png": "[encoded data removed]",
      "text/plain": [
       "<matplotlib.figure.Figure at 0x7f9f5980af98>"
      ]
     },
     "metadata": {},
     "output_type": "display_data"
    }
   ],
   "source": [
    "simulacion(129, 0, plot_type=\"3\")"
   ]
  },
  {
   "cell_type": "markdown",
   "metadata": {},
   "source": [
    "#### Solución con Gauss-Seidel"
   ]
  },
  {
   "cell_type": "code",
   "execution_count": 16,
   "metadata": {
    "collapsed": false,
    "scrolled": false
   },
   "outputs": [
    {
     "name": "stdout",
     "output_type": "stream",
     "text": [
      "Gauss-Seidel N=129\n",
      "Numero de iteraciones G-S: 37155\n",
      "Error: 6.342442609087678e-05\n"
     ]
    },
    {
     "data": {
      "image/png": "[encoded data removed]",
      "text/plain": [
       "<matplotlib.figure.Figure at 0x7f9f54985198>"
      ]
     },
     "metadata": {},
     "output_type": "display_data"
    }
   ],
   "source": [
    "simulacion(129, \"gs\", plot_type=\"3\", verb=True)"
   ]
  },
  {
   "cell_type": "markdown",
   "metadata": {},
   "source": [
    "#### Solución con V-Cycle"
   ]
  },
  {
   "cell_type": "code",
   "execution_count": 19,
   "metadata": {
    "collapsed": false,
    "scrolled": false
   },
   "outputs": [
    {
     "name": "stdout",
     "output_type": "stream",
     "text": [
      "V-Cycle N=129\n",
      "N° de V-Cycles: 15\n",
      "Error: 6.342429059058166e-05\n"
     ]
    },
    {
     "data": {
      "image/png": "[encoded data removed]",
      "text/plain": [
       "<matplotlib.figure.Figure at 0x7f9f544ad6a0>"
      ]
     },
     "metadata": {},
     "output_type": "display_data"
    }
   ],
   "source": [
    "simulacion(129, \"vc\", plot_type=\"3\", verb=True)"
   ]
  },
  {
   "cell_type": "markdown",
   "metadata": {},
   "source": [
    "#### Solución con Multigrid"
   ]
  },
  {
   "cell_type": "code",
   "execution_count": 21,
   "metadata": {
    "collapsed": false,
    "scrolled": true
   },
   "outputs": [
    {
     "name": "stdout",
     "output_type": "stream",
     "text": [
      "Multigrid N=129\n",
      "Error: 0.0008790666235414615\n"
     ]
    },
    {
     "data": {
      "image/png": "[encoded data removed]",
      "text/plain": [
       "<matplotlib.figure.Figure at 0x7f9f543c9dd8>"
      ]
     },
     "metadata": {},
     "output_type": "display_data"
    }
   ],
   "source": [
    "simulacion(129, \"mg\", plot_type=\"3\", verb=False)"
   ]
  },
  {
   "cell_type": "markdown",
   "metadata": {},
   "source": [
    "### Análisis de Complejidad"
   ]
  },
  {
   "cell_type": "code",
   "execution_count": 22,
   "metadata": {
    "collapsed": true
   },
   "outputs": [],
   "source": [
    "N = [65, 129, 257]"
   ]
  },
  {
   "cell_type": "markdown",
   "metadata": {},
   "source": [
    "#### Gauss-Seidel"
   ]
  },
  {
   "cell_type": "code",
   "execution_count": 23,
   "metadata": {
    "collapsed": false
   },
   "outputs": [
    {
     "name": "stdout",
     "output_type": "stream",
     "text": [
      "Gauss-Seidel N=65\n",
      "Error: 0.00025369922248488536\n",
      "Gauss-Seidel N=129\n",
      "Error: 6.342442609087678e-05\n",
      "Gauss-Seidel N=257\n",
      "Error: 1.608748914470042e-05\n"
     ]
    }
   ],
   "source": [
    "tgs = []\n",
    "for n in N:\n",
    "    temp = %timeit -r 1 -n 1 -o -q simulacion(n, \"gs\")\n",
    "    tgs.append(temp.best)"
   ]
  },
  {
   "cell_type": "markdown",
   "metadata": {},
   "source": [
    "#### V-Cycle"
   ]
  },
  {
   "cell_type": "code",
   "execution_count": 24,
   "metadata": {
    "collapsed": false,
    "scrolled": false
   },
   "outputs": [
    {
     "name": "stdout",
     "output_type": "stream",
     "text": [
      "V-Cycle N=65\n",
      "Error: 0.00025369887938721307\n",
      "V-Cycle N=129\n",
      "Error: 6.342429059058166e-05\n",
      "V-Cycle N=257\n",
      "Error: 1.58560501565188e-05\n"
     ]
    }
   ],
   "source": [
    "tvc = []\n",
    "for n in N:\n",
    "    temp = %timeit -r 1 -n 1 -o -q simulacion(n, \"vc\")\n",
    "    tvc.append(temp.best)"
   ]
  },
  {
   "cell_type": "markdown",
   "metadata": {},
   "source": [
    "####  Multigrid"
   ]
  },
  {
   "cell_type": "code",
   "execution_count": 25,
   "metadata": {
    "collapsed": false,
    "scrolled": false
   },
   "outputs": [
    {
     "name": "stdout",
     "output_type": "stream",
     "text": [
      "Multigrid N=65\n",
      "Error: 0.0015490869043630435\n",
      "Multigrid N=129\n",
      "Error: 0.0008790666235414615\n",
      "Multigrid N=257\n",
      "Error: 0.0004381958495731374\n"
     ]
    }
   ],
   "source": [
    "tmg = []\n",
    "for n in N:\n",
    "    temp = %timeit -r 1 -n 1 -o -q simulacion(n, \"mg\")\n",
    "    tmg.append(temp.best)"
   ]
  },
  {
   "cell_type": "markdown",
   "metadata": {},
   "source": [
    "#### Gráfico Complejidad Algoritmica"
   ]
  },
  {
   "cell_type": "code",
   "execution_count": 26,
   "metadata": {
    "collapsed": false
   },
   "outputs": [
    {
     "data": {
      "image/png": "[encoded data removed]",
      "text/plain": [
       "<matplotlib.figure.Figure at 0x7f9f5460e9b0>"
      ]
     },
     "metadata": {},
     "output_type": "display_data"
    }
   ],
   "source": [
    "plotTN(N, tgs, tvc, tmg)"
   ]
  },
  {
   "cell_type": "code",
   "execution_count": 27,
   "metadata": {
    "collapsed": false
   },
   "outputs": [
    {
     "name": "stdout",
     "output_type": "stream",
     "text": [
      "Tiempos G-S [0.9560123540004497, 14.739999593999528, 161.1582996650004]\n",
      "Tiempos V-C [0.024258906999421015, 0.05804482100029418, 0.20867340199947648]\n",
      "Tiempos MG [0.005701106000742584, 0.0098825980003312, 0.034250179000082426]\n"
     ]
    }
   ],
   "source": [
    "print(\"Tiempos G-S\", tgs)\n",
    "print(\"Tiempos V-C\", tvc)\n",
    "print(\"Tiempos MG\", tmg)"
   ]
  },
  {
   "cell_type": "markdown",
   "metadata": {},
   "source": [
    "Notamos que gráficamente se cumple la complejidad algoritmica derivada de la clase, en donde *Gauss-Seidel* tiene una complejidad $O(n^2)$ mientras que *V-Cycle* y *Multigrid* son de complejidad $O(n\\log n)$."
   ]
  },
  {
   "cell_type": "markdown",
   "metadata": {},
   "source": [
    "#### Cálculo de Unidades de Operación"
   ]
  },
  {
   "cell_type": "code",
   "execution_count": 45,
   "metadata": {
    "collapsed": true
   },
   "outputs": [],
   "source": [
    "N = 65\n",
    "x = np.linspace(0, 1, N)\n",
    "y = x\n",
    "v = np.zeros((N, N))\n",
    "fff = ff(x,y)"
   ]
  },
  {
   "cell_type": "code",
   "execution_count": 51,
   "metadata": {
    "collapsed": false
   },
   "outputs": [
    {
     "name": "stdout",
     "output_type": "stream",
     "text": [
      "1 loop, best of 1: 108 µs per loop\n"
     ]
    }
   ],
   "source": [
    "%timeit -r 1 -n 1 gauss_seidel(v, fff, 1)"
   ]
  },
  {
   "cell_type": "code",
   "execution_count": 52,
   "metadata": {
    "collapsed": false
   },
   "outputs": [
    {
     "name": "stdout",
     "output_type": "stream",
     "text": [
      "1 loop, best of 1: 18.8 ms per loop\n"
     ]
    }
   ],
   "source": [
    "%timeit -r 1 -n 1 Nvcycles(v, fff, 1, 1)"
   ]
  },
  {
   "cell_type": "code",
   "execution_count": 53,
   "metadata": {
    "collapsed": false
   },
   "outputs": [
    {
     "name": "stdout",
     "output_type": "stream",
     "text": [
      "1 loop, best of 1: 4.3 ms per loop\n"
     ]
    }
   ],
   "source": [
    "%timeit -r 1 -n 1 FMG(fff, 1, 1, 1)"
   ]
  },
  {
   "cell_type": "markdown",
   "metadata": {},
   "source": [
    "Notamos que no se cumple exactamente el cálculo de operaciones por unidad de relajación, el cual para *V-Cycle* es de $\\frac83 WU$ y para *FMG* es de $\\frac72 WU$. Esta diferencia se le puede atribuir a los distintos resultados por la carga de la CPU o al uso de *Numba* en la aceleración del algoritmo G-S."
   ]
  },
  {
   "cell_type": "markdown",
   "metadata": {},
   "source": [
    "####  Pruebas con $\\nu_0$, $\\nu_1$ y $\\nu_2$"
   ]
  },
  {
   "cell_type": "code",
   "execution_count": 43,
   "metadata": {
    "collapsed": false
   },
   "outputs": [
    {
     "name": "stdout",
     "output_type": "stream",
     "text": [
      "Para nu0 = 1, nu1 = 5 y nu2 = 5, el error es de: 0.000218\n"
     ]
    }
   ],
   "source": [
    "N = 257\n",
    "x = np.linspace(0, 1, N)\n",
    "y = x\n",
    "\n",
    "# Pruebas para variados nu_0, nu_1 y nu_2\n",
    "min_error = 1\n",
    "nu = np.zeros(3, dtype=int)\n",
    "for nu0 in range(1, 6):\n",
    "    for nu1 in range(1, 6):\n",
    "        for nu2 in range(1, 6):\n",
    "            sol = FMG(ff(x,y), nu0, nu1, nu2, rtype=\"fw\", verb=False)\n",
    "            fmg_error = L2_error(sol, fa(x,y))\n",
    "            if fmg_error < min_error:\n",
    "                min_error = fmg_error\n",
    "                nu[0] = nu0; nu[1] = nu1; nu[2] = nu2\n",
    "                              \n",
    "print(\"Para nu0 = %d, nu1 = %d y nu2 = %d, el error es de: %f\" %(nu[0], nu[1], nu[2], min_error))"
   ]
  },
  {
   "cell_type": "markdown",
   "metadata": {},
   "source": [
    "De las pruebas realizadas anteriormente notamos que el menor valor de error lo tenemos con $\\nu_0=1$, $\\nu_1=5$ y $\\nu_2=5$"
   ]
  },
  {
   "cell_type": "code",
   "execution_count": 44,
   "metadata": {
    "collapsed": false
   },
   "outputs": [
    {
     "data": {
      "image/png": "[encoded data removed]",
      "text/plain": [
       "<matplotlib.figure.Figure at 0x7f9f542d4eb8>"
      ]
     },
     "metadata": {},
     "output_type": "display_data"
    }
   ],
   "source": [
    "sol = FMG(ff(x,y), nu[0], nu[1], nu[2])\n",
    "plot(x, y, sol, plot_type=\"3\", plot_title=\"Prueba MG\")"
   ]
  },
  {
   "cell_type": "markdown",
   "metadata": {},
   "source": [
    "#### Estudio del efecto al utilizar *Injection* vs *Full-Weighting*"
   ]
  },
  {
   "cell_type": "code",
   "execution_count": 34,
   "metadata": {
    "collapsed": true
   },
   "outputs": [],
   "source": [
    "# Parametros de la tarea\n",
    "N = [65, 129, 257]\n",
    "nu0 = 1; nu1 = 2;  nu2 = 2\n",
    "\n",
    "# Variables para guardar errores\n",
    "error_vc_in = []\n",
    "error_vc_fw = []\n",
    "error_mg_in = []\n",
    "error_mg_fw = []"
   ]
  },
  {
   "cell_type": "code",
   "execution_count": 35,
   "metadata": {
    "collapsed": false
   },
   "outputs": [],
   "source": [
    "# Calculo de errores con el uso de Injection y Fullweighting\n",
    "for n in N:\n",
    "    x = np.linspace(0, 1, n)\n",
    "    y = x\n",
    "    v = np.zeros((n, n))\n",
    "    \n",
    "    # Calculo VC\n",
    "    sol_vc_in = Nvcycles(v, ff(x,y), nu1, nu2, rtype=\"in\")\n",
    "    sol_vc_fw = Nvcycles(v, ff(x,y), nu1, nu2, rtype=\"fw\")\n",
    "    \n",
    "    # Guardamos los errores\n",
    "    error_vc_in.append(L2_error(sol_vc_in, fa(x,y)))\n",
    "    error_vc_fw.append(L2_error(sol_vc_fw, fa(x,y)))\n",
    "    \n",
    "\n",
    "    # Calculo MG\n",
    "    sol_mg_in = FMG(ff(x,y), nu0, nu1, nu2, rtype=\"in\")\n",
    "    sol_mg_fw = FMG(ff(x,y), nu0, nu1, nu2, rtype=\"fw\")\n",
    "    \n",
    "    # Guardamos los errores\n",
    "    error_mg_in.append(L2_error(sol_mg_in, fa(x,y)))\n",
    "    error_mg_fw.append(L2_error(sol_mg_fw, fa(x,y)))"
   ]
  },
  {
   "cell_type": "code",
   "execution_count": 36,
   "metadata": {
    "collapsed": false
   },
   "outputs": [
    {
     "data": {
      "image/png": "[encoded data removed]",
      "text/plain": [
       "<matplotlib.figure.Figure at 0x7f9f542b37b8>"
      ]
     },
     "metadata": {},
     "output_type": "display_data"
    }
   ],
   "source": [
    "plotINFW(N, error_vc_in, error_vc_fw, error_mg_in, error_mg_fw)"
   ]
  },
  {
   "cell_type": "markdown",
   "metadata": {},
   "source": [
    "Del gráfico se puede concluir que no existen diferencias significativas en los resultados al utilizar *Injection* o *FullWeighting* como restricción en el algoritmo *V-Cycle*, a diferencia de *Multigrid* que tiene mejores resultados al utilizar *Injection*."
   ]
  },
  {
   "cell_type": "markdown",
   "metadata": {},
   "source": [
    "<div id=\"conclusiones\" />\n",
    "## 3. Conclusiones\n",
    "\n",
    "Del desarrollo del proyecto se obtuvieron las siguientes conclusiones:\n",
    "\n",
    "* Los algoritmos *Multigrid* son computacionalmente menos costosos que los de relajación como el *Gauss-Seidel*.\n",
    "* Con los métodos *Multigrid* es posible obtener errores comparables con una menor cantidad de cómputo.\n",
    "* No se aprecian mejoras significativas en los resultados al utilizar *Injection* en vez de *Full-Weighting* en *V-Cycle*, no así para *Multigrid* donde *Injection* muestra mejores resultados.\n",
    "* Se puede inferir que con el uso de interpolación lineal se pierde precisión en la solución, pensando en otros tipos de interpolacion como la cúbica, spline, entre otras.\n",
    "* Por otra parte, se puede culpar el uso de *Numba* en que el resultado exacto de número de operaciones en función de la relajación no coincida."
   ]
  },
  {
   "cell_type": "markdown",
   "metadata": {},
   "source": [
    "<div id=\"referencias\" />\n",
    "## 4. Referencias\n",
    "\n",
    "* [1] Brandt, A., & Livne, O. E. (2011). Multigrid Techniques: 1984 Guide with Applications to Fluid Dynamics, Revised Edition. Society for Industrial and Applied Mathematics.\n",
    "* [2] Briggs, W. L., Henson, V. E., & McCormick, S. F. (2000). A multigrid tutorial. Society for Industrial and Applied Mathematics.\n",
    "* [3] Stewart, J. M. (2014). Python for scientists. Cambridge University Press. \t\n",
    "* [4] Barba, L (2014). Practical Numerical Methods with Python. \n"
   ]
  }
 ],
 "metadata": {
  "kernelspec": {
   "display_name": "Python 3",
   "language": "python",
   "name": "python3"
  },
  "language_info": {
   "codemirror_mode": {
    "name": "ipython",
    "version": 3
   },
   "file_extension": ".py",
   "mimetype": "text/x-python",
   "name": "python",
   "nbconvert_exporter": "python",
   "pygments_lexer": "ipython3",
   "version": "3.6.0"
  }
 },
 "nbformat": 4,
 "nbformat_minor": 2
}
